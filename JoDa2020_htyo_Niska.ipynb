{
 "cells": [
  {
   "cell_type": "markdown",
   "metadata": {},
   "source": [
    "Tuodaan Pandas-, Numpy- ja Matplotlib-kirjastot:"
   ]
  },
  {
   "cell_type": "code",
   "execution_count": 1,
   "metadata": {},
   "outputs": [],
   "source": [
    "import pandas as pd\n",
    "\n",
    "import numpy as np\n",
    "import matplotlib.pyplot as plt\n",
    "from matplotlib import cm\n",
    "from matplotlib.colors import LinearSegmentedColormap\n"
   ]
  },
  {
   "cell_type": "markdown",
   "metadata": {},
   "source": [
    "Luetaan datatiedosto ja sijoitetaan se muuttujaan df:"
   ]
  },
  {
   "cell_type": "code",
   "execution_count": 2,
   "metadata": {},
   "outputs": [],
   "source": [
    "df = pd.read_csv('results1ots.csv')"
   ]
  },
  {
   "cell_type": "markdown",
   "metadata": {},
   "source": [
    "Katsotaan miltä datatiedoston 5 viimeistä riviä näyttää:"
   ]
  },
  {
   "cell_type": "code",
   "execution_count": 3,
   "metadata": {},
   "outputs": [
    {
     "data": {
      "text/html": [
       "<div>\n",
       "<style scoped>\n",
       "    .dataframe tbody tr th:only-of-type {\n",
       "        vertical-align: middle;\n",
       "    }\n",
       "\n",
       "    .dataframe tbody tr th {\n",
       "        vertical-align: top;\n",
       "    }\n",
       "\n",
       "    .dataframe thead th {\n",
       "        text-align: right;\n",
       "    }\n",
       "</style>\n",
       "<table border=\"1\" class=\"dataframe\">\n",
       "  <thead>\n",
       "    <tr style=\"text-align: right;\">\n",
       "      <th></th>\n",
       "      <th>Server ID</th>\n",
       "      <th>Sponsor</th>\n",
       "      <th>Server Name</th>\n",
       "      <th>Timestamp</th>\n",
       "      <th>Distance</th>\n",
       "      <th>Ping</th>\n",
       "      <th>Download</th>\n",
       "      <th>Upload</th>\n",
       "      <th>Share</th>\n",
       "      <th>IP Address</th>\n",
       "    </tr>\n",
       "  </thead>\n",
       "  <tbody>\n",
       "    <tr>\n",
       "      <td>27675</td>\n",
       "      <td>3038</td>\n",
       "      <td>Seltimil Oy</td>\n",
       "      <td>Jyvaskyla</td>\n",
       "      <td>2020-03-28T11:10:03.204795Z</td>\n",
       "      <td>1.068003</td>\n",
       "      <td>28.278</td>\n",
       "      <td>2.117625e+07</td>\n",
       "      <td>2.696977e+07</td>\n",
       "      <td>NaN</td>\n",
       "      <td>109.240.192.231</td>\n",
       "    </tr>\n",
       "    <tr>\n",
       "      <td>27676</td>\n",
       "      <td>3038</td>\n",
       "      <td>Seltimil Oy</td>\n",
       "      <td>Jyvaskyla</td>\n",
       "      <td>2020-03-28T11:40:02.730371Z</td>\n",
       "      <td>1.068003</td>\n",
       "      <td>24.124</td>\n",
       "      <td>1.482492e+07</td>\n",
       "      <td>2.148748e+07</td>\n",
       "      <td>NaN</td>\n",
       "      <td>109.240.192.231</td>\n",
       "    </tr>\n",
       "    <tr>\n",
       "      <td>27677</td>\n",
       "      <td>3038</td>\n",
       "      <td>Seltimil Oy</td>\n",
       "      <td>Jyvaskyla</td>\n",
       "      <td>2020-03-28T12:10:02.987938Z</td>\n",
       "      <td>1.068003</td>\n",
       "      <td>28.535</td>\n",
       "      <td>1.372991e+07</td>\n",
       "      <td>2.145983e+07</td>\n",
       "      <td>NaN</td>\n",
       "      <td>109.240.192.231</td>\n",
       "    </tr>\n",
       "    <tr>\n",
       "      <td>27678</td>\n",
       "      <td>3038</td>\n",
       "      <td>Seltimil Oy</td>\n",
       "      <td>Jyvaskyla</td>\n",
       "      <td>2020-03-28T12:40:03.218262Z</td>\n",
       "      <td>1.068003</td>\n",
       "      <td>28.403</td>\n",
       "      <td>1.904317e+07</td>\n",
       "      <td>2.177915e+07</td>\n",
       "      <td>NaN</td>\n",
       "      <td>109.240.192.231</td>\n",
       "    </tr>\n",
       "    <tr>\n",
       "      <td>27679</td>\n",
       "      <td>3038</td>\n",
       "      <td>Seltimil Oy</td>\n",
       "      <td>Jyvaskyla</td>\n",
       "      <td>2020-03-28T13:10:02.868146Z</td>\n",
       "      <td>1.068003</td>\n",
       "      <td>27.745</td>\n",
       "      <td>1.579473e+07</td>\n",
       "      <td>3.232823e+06</td>\n",
       "      <td>NaN</td>\n",
       "      <td>109.240.192.231</td>\n",
       "    </tr>\n",
       "  </tbody>\n",
       "</table>\n",
       "</div>"
      ],
      "text/plain": [
       "       Server ID      Sponsor Server Name                    Timestamp  \\\n",
       "27675       3038  Seltimil Oy   Jyvaskyla  2020-03-28T11:10:03.204795Z   \n",
       "27676       3038  Seltimil Oy   Jyvaskyla  2020-03-28T11:40:02.730371Z   \n",
       "27677       3038  Seltimil Oy   Jyvaskyla  2020-03-28T12:10:02.987938Z   \n",
       "27678       3038  Seltimil Oy   Jyvaskyla  2020-03-28T12:40:03.218262Z   \n",
       "27679       3038  Seltimil Oy   Jyvaskyla  2020-03-28T13:10:02.868146Z   \n",
       "\n",
       "       Distance    Ping      Download        Upload  Share       IP Address  \n",
       "27675  1.068003  28.278  2.117625e+07  2.696977e+07    NaN  109.240.192.231  \n",
       "27676  1.068003  24.124  1.482492e+07  2.148748e+07    NaN  109.240.192.231  \n",
       "27677  1.068003  28.535  1.372991e+07  2.145983e+07    NaN  109.240.192.231  \n",
       "27678  1.068003  28.403  1.904317e+07  2.177915e+07    NaN  109.240.192.231  \n",
       "27679  1.068003  27.745  1.579473e+07  3.232823e+06    NaN  109.240.192.231  "
      ]
     },
     "execution_count": 3,
     "metadata": {},
     "output_type": "execute_result"
    }
   ],
   "source": [
    "df.tail()"
   ]
  },
  {
   "cell_type": "markdown",
   "metadata": {},
   "source": [
    "Tiputetaan tyhjä Share-sarake pois ja sijoitetaan saatu dataframe aiemmin käytettyyn muuttujaan df."
   ]
  },
  {
   "cell_type": "code",
   "execution_count": 4,
   "metadata": {},
   "outputs": [],
   "source": [
    "df = df.dropna(axis='columns')"
   ]
  },
  {
   "cell_type": "markdown",
   "metadata": {},
   "source": [
    "Tehdään vielä apumuuttuja df2 johon laitetaan kopio uudesta dataframesta."
   ]
  },
  {
   "cell_type": "code",
   "execution_count": 5,
   "metadata": {},
   "outputs": [],
   "source": [
    "df2 = df.dropna(axis='columns')"
   ]
  },
  {
   "cell_type": "code",
   "execution_count": 6,
   "metadata": {},
   "outputs": [
    {
     "data": {
      "text/html": [
       "<div>\n",
       "<style scoped>\n",
       "    .dataframe tbody tr th:only-of-type {\n",
       "        vertical-align: middle;\n",
       "    }\n",
       "\n",
       "    .dataframe tbody tr th {\n",
       "        vertical-align: top;\n",
       "    }\n",
       "\n",
       "    .dataframe thead th {\n",
       "        text-align: right;\n",
       "    }\n",
       "</style>\n",
       "<table border=\"1\" class=\"dataframe\">\n",
       "  <thead>\n",
       "    <tr style=\"text-align: right;\">\n",
       "      <th></th>\n",
       "      <th>Server ID</th>\n",
       "      <th>Sponsor</th>\n",
       "      <th>Server Name</th>\n",
       "      <th>Timestamp</th>\n",
       "      <th>Distance</th>\n",
       "      <th>Ping</th>\n",
       "      <th>Download</th>\n",
       "      <th>Upload</th>\n",
       "      <th>IP Address</th>\n",
       "    </tr>\n",
       "  </thead>\n",
       "  <tbody>\n",
       "    <tr>\n",
       "      <td>0</td>\n",
       "      <td>4113</td>\n",
       "      <td>AinaCom Oy</td>\n",
       "      <td>Hameenlinna</td>\n",
       "      <td>2019-04-27T14:42:34.795529Z</td>\n",
       "      <td>36.370597</td>\n",
       "      <td>31.108</td>\n",
       "      <td>1.093165e+07</td>\n",
       "      <td>2.298769e+07</td>\n",
       "      <td>109.240.230.177</td>\n",
       "    </tr>\n",
       "    <tr>\n",
       "      <td>1</td>\n",
       "      <td>4549</td>\n",
       "      <td>Elisa Oyj</td>\n",
       "      <td>Helsinki</td>\n",
       "      <td>2019-04-27T14:51:03.157093Z</td>\n",
       "      <td>130.306322</td>\n",
       "      <td>26.457</td>\n",
       "      <td>1.277750e+07</td>\n",
       "      <td>2.232226e+07</td>\n",
       "      <td>109.240.230.177</td>\n",
       "    </tr>\n",
       "    <tr>\n",
       "      <td>2</td>\n",
       "      <td>4549</td>\n",
       "      <td>Elisa Oyj</td>\n",
       "      <td>Helsinki</td>\n",
       "      <td>2019-04-27T15:00:03.191761Z</td>\n",
       "      <td>130.306322</td>\n",
       "      <td>27.276</td>\n",
       "      <td>1.254651e+07</td>\n",
       "      <td>2.550727e+07</td>\n",
       "      <td>109.240.230.177</td>\n",
       "    </tr>\n",
       "    <tr>\n",
       "      <td>3</td>\n",
       "      <td>4113</td>\n",
       "      <td>AinaCom Oy</td>\n",
       "      <td>Hameenlinna</td>\n",
       "      <td>2019-04-27T15:17:02.991595Z</td>\n",
       "      <td>36.370597</td>\n",
       "      <td>29.571</td>\n",
       "      <td>1.381782e+07</td>\n",
       "      <td>2.603921e+07</td>\n",
       "      <td>109.240.230.177</td>\n",
       "    </tr>\n",
       "    <tr>\n",
       "      <td>4</td>\n",
       "      <td>4549</td>\n",
       "      <td>Elisa Oyj</td>\n",
       "      <td>Helsinki</td>\n",
       "      <td>2019-04-27T15:34:03.359461Z</td>\n",
       "      <td>130.306322</td>\n",
       "      <td>29.533</td>\n",
       "      <td>8.309932e+06</td>\n",
       "      <td>2.568938e+07</td>\n",
       "      <td>109.240.230.177</td>\n",
       "    </tr>\n",
       "    <tr>\n",
       "      <td>...</td>\n",
       "      <td>...</td>\n",
       "      <td>...</td>\n",
       "      <td>...</td>\n",
       "      <td>...</td>\n",
       "      <td>...</td>\n",
       "      <td>...</td>\n",
       "      <td>...</td>\n",
       "      <td>...</td>\n",
       "      <td>...</td>\n",
       "    </tr>\n",
       "    <tr>\n",
       "      <td>27675</td>\n",
       "      <td>3038</td>\n",
       "      <td>Seltimil Oy</td>\n",
       "      <td>Jyvaskyla</td>\n",
       "      <td>2020-03-28T11:10:03.204795Z</td>\n",
       "      <td>1.068003</td>\n",
       "      <td>28.278</td>\n",
       "      <td>2.117625e+07</td>\n",
       "      <td>2.696977e+07</td>\n",
       "      <td>109.240.192.231</td>\n",
       "    </tr>\n",
       "    <tr>\n",
       "      <td>27676</td>\n",
       "      <td>3038</td>\n",
       "      <td>Seltimil Oy</td>\n",
       "      <td>Jyvaskyla</td>\n",
       "      <td>2020-03-28T11:40:02.730371Z</td>\n",
       "      <td>1.068003</td>\n",
       "      <td>24.124</td>\n",
       "      <td>1.482492e+07</td>\n",
       "      <td>2.148748e+07</td>\n",
       "      <td>109.240.192.231</td>\n",
       "    </tr>\n",
       "    <tr>\n",
       "      <td>27677</td>\n",
       "      <td>3038</td>\n",
       "      <td>Seltimil Oy</td>\n",
       "      <td>Jyvaskyla</td>\n",
       "      <td>2020-03-28T12:10:02.987938Z</td>\n",
       "      <td>1.068003</td>\n",
       "      <td>28.535</td>\n",
       "      <td>1.372991e+07</td>\n",
       "      <td>2.145983e+07</td>\n",
       "      <td>109.240.192.231</td>\n",
       "    </tr>\n",
       "    <tr>\n",
       "      <td>27678</td>\n",
       "      <td>3038</td>\n",
       "      <td>Seltimil Oy</td>\n",
       "      <td>Jyvaskyla</td>\n",
       "      <td>2020-03-28T12:40:03.218262Z</td>\n",
       "      <td>1.068003</td>\n",
       "      <td>28.403</td>\n",
       "      <td>1.904317e+07</td>\n",
       "      <td>2.177915e+07</td>\n",
       "      <td>109.240.192.231</td>\n",
       "    </tr>\n",
       "    <tr>\n",
       "      <td>27679</td>\n",
       "      <td>3038</td>\n",
       "      <td>Seltimil Oy</td>\n",
       "      <td>Jyvaskyla</td>\n",
       "      <td>2020-03-28T13:10:02.868146Z</td>\n",
       "      <td>1.068003</td>\n",
       "      <td>27.745</td>\n",
       "      <td>1.579473e+07</td>\n",
       "      <td>3.232823e+06</td>\n",
       "      <td>109.240.192.231</td>\n",
       "    </tr>\n",
       "  </tbody>\n",
       "</table>\n",
       "<p>27680 rows × 9 columns</p>\n",
       "</div>"
      ],
      "text/plain": [
       "       Server ID      Sponsor  Server Name                    Timestamp  \\\n",
       "0           4113   AinaCom Oy  Hameenlinna  2019-04-27T14:42:34.795529Z   \n",
       "1           4549    Elisa Oyj     Helsinki  2019-04-27T14:51:03.157093Z   \n",
       "2           4549    Elisa Oyj     Helsinki  2019-04-27T15:00:03.191761Z   \n",
       "3           4113   AinaCom Oy  Hameenlinna  2019-04-27T15:17:02.991595Z   \n",
       "4           4549    Elisa Oyj     Helsinki  2019-04-27T15:34:03.359461Z   \n",
       "...          ...          ...          ...                          ...   \n",
       "27675       3038  Seltimil Oy    Jyvaskyla  2020-03-28T11:10:03.204795Z   \n",
       "27676       3038  Seltimil Oy    Jyvaskyla  2020-03-28T11:40:02.730371Z   \n",
       "27677       3038  Seltimil Oy    Jyvaskyla  2020-03-28T12:10:02.987938Z   \n",
       "27678       3038  Seltimil Oy    Jyvaskyla  2020-03-28T12:40:03.218262Z   \n",
       "27679       3038  Seltimil Oy    Jyvaskyla  2020-03-28T13:10:02.868146Z   \n",
       "\n",
       "         Distance    Ping      Download        Upload       IP Address  \n",
       "0       36.370597  31.108  1.093165e+07  2.298769e+07  109.240.230.177  \n",
       "1      130.306322  26.457  1.277750e+07  2.232226e+07  109.240.230.177  \n",
       "2      130.306322  27.276  1.254651e+07  2.550727e+07  109.240.230.177  \n",
       "3       36.370597  29.571  1.381782e+07  2.603921e+07  109.240.230.177  \n",
       "4      130.306322  29.533  8.309932e+06  2.568938e+07  109.240.230.177  \n",
       "...           ...     ...           ...           ...              ...  \n",
       "27675    1.068003  28.278  2.117625e+07  2.696977e+07  109.240.192.231  \n",
       "27676    1.068003  24.124  1.482492e+07  2.148748e+07  109.240.192.231  \n",
       "27677    1.068003  28.535  1.372991e+07  2.145983e+07  109.240.192.231  \n",
       "27678    1.068003  28.403  1.904317e+07  2.177915e+07  109.240.192.231  \n",
       "27679    1.068003  27.745  1.579473e+07  3.232823e+06  109.240.192.231  \n",
       "\n",
       "[27680 rows x 9 columns]"
      ]
     },
     "execution_count": 6,
     "metadata": {},
     "output_type": "execute_result"
    }
   ],
   "source": [
    "df2"
   ]
  },
  {
   "cell_type": "markdown",
   "metadata": {},
   "source": [
    "Katsotaan miltä dataframe nyt näyttää:"
   ]
  },
  {
   "cell_type": "code",
   "execution_count": 7,
   "metadata": {},
   "outputs": [
    {
     "data": {
      "text/html": [
       "<div>\n",
       "<style scoped>\n",
       "    .dataframe tbody tr th:only-of-type {\n",
       "        vertical-align: middle;\n",
       "    }\n",
       "\n",
       "    .dataframe tbody tr th {\n",
       "        vertical-align: top;\n",
       "    }\n",
       "\n",
       "    .dataframe thead th {\n",
       "        text-align: right;\n",
       "    }\n",
       "</style>\n",
       "<table border=\"1\" class=\"dataframe\">\n",
       "  <thead>\n",
       "    <tr style=\"text-align: right;\">\n",
       "      <th></th>\n",
       "      <th>Server ID</th>\n",
       "      <th>Sponsor</th>\n",
       "      <th>Server Name</th>\n",
       "      <th>Timestamp</th>\n",
       "      <th>Distance</th>\n",
       "      <th>Ping</th>\n",
       "      <th>Download</th>\n",
       "      <th>Upload</th>\n",
       "      <th>IP Address</th>\n",
       "    </tr>\n",
       "  </thead>\n",
       "  <tbody>\n",
       "    <tr>\n",
       "      <td>0</td>\n",
       "      <td>4113</td>\n",
       "      <td>AinaCom Oy</td>\n",
       "      <td>Hameenlinna</td>\n",
       "      <td>2019-04-27T14:42:34.795529Z</td>\n",
       "      <td>36.370597</td>\n",
       "      <td>31.108</td>\n",
       "      <td>1.093165e+07</td>\n",
       "      <td>2.298769e+07</td>\n",
       "      <td>109.240.230.177</td>\n",
       "    </tr>\n",
       "    <tr>\n",
       "      <td>1</td>\n",
       "      <td>4549</td>\n",
       "      <td>Elisa Oyj</td>\n",
       "      <td>Helsinki</td>\n",
       "      <td>2019-04-27T14:51:03.157093Z</td>\n",
       "      <td>130.306322</td>\n",
       "      <td>26.457</td>\n",
       "      <td>1.277750e+07</td>\n",
       "      <td>2.232226e+07</td>\n",
       "      <td>109.240.230.177</td>\n",
       "    </tr>\n",
       "    <tr>\n",
       "      <td>2</td>\n",
       "      <td>4549</td>\n",
       "      <td>Elisa Oyj</td>\n",
       "      <td>Helsinki</td>\n",
       "      <td>2019-04-27T15:00:03.191761Z</td>\n",
       "      <td>130.306322</td>\n",
       "      <td>27.276</td>\n",
       "      <td>1.254651e+07</td>\n",
       "      <td>2.550727e+07</td>\n",
       "      <td>109.240.230.177</td>\n",
       "    </tr>\n",
       "    <tr>\n",
       "      <td>3</td>\n",
       "      <td>4113</td>\n",
       "      <td>AinaCom Oy</td>\n",
       "      <td>Hameenlinna</td>\n",
       "      <td>2019-04-27T15:17:02.991595Z</td>\n",
       "      <td>36.370597</td>\n",
       "      <td>29.571</td>\n",
       "      <td>1.381782e+07</td>\n",
       "      <td>2.603921e+07</td>\n",
       "      <td>109.240.230.177</td>\n",
       "    </tr>\n",
       "    <tr>\n",
       "      <td>4</td>\n",
       "      <td>4549</td>\n",
       "      <td>Elisa Oyj</td>\n",
       "      <td>Helsinki</td>\n",
       "      <td>2019-04-27T15:34:03.359461Z</td>\n",
       "      <td>130.306322</td>\n",
       "      <td>29.533</td>\n",
       "      <td>8.309932e+06</td>\n",
       "      <td>2.568938e+07</td>\n",
       "      <td>109.240.230.177</td>\n",
       "    </tr>\n",
       "    <tr>\n",
       "      <td>...</td>\n",
       "      <td>...</td>\n",
       "      <td>...</td>\n",
       "      <td>...</td>\n",
       "      <td>...</td>\n",
       "      <td>...</td>\n",
       "      <td>...</td>\n",
       "      <td>...</td>\n",
       "      <td>...</td>\n",
       "      <td>...</td>\n",
       "    </tr>\n",
       "    <tr>\n",
       "      <td>27675</td>\n",
       "      <td>3038</td>\n",
       "      <td>Seltimil Oy</td>\n",
       "      <td>Jyvaskyla</td>\n",
       "      <td>2020-03-28T11:10:03.204795Z</td>\n",
       "      <td>1.068003</td>\n",
       "      <td>28.278</td>\n",
       "      <td>2.117625e+07</td>\n",
       "      <td>2.696977e+07</td>\n",
       "      <td>109.240.192.231</td>\n",
       "    </tr>\n",
       "    <tr>\n",
       "      <td>27676</td>\n",
       "      <td>3038</td>\n",
       "      <td>Seltimil Oy</td>\n",
       "      <td>Jyvaskyla</td>\n",
       "      <td>2020-03-28T11:40:02.730371Z</td>\n",
       "      <td>1.068003</td>\n",
       "      <td>24.124</td>\n",
       "      <td>1.482492e+07</td>\n",
       "      <td>2.148748e+07</td>\n",
       "      <td>109.240.192.231</td>\n",
       "    </tr>\n",
       "    <tr>\n",
       "      <td>27677</td>\n",
       "      <td>3038</td>\n",
       "      <td>Seltimil Oy</td>\n",
       "      <td>Jyvaskyla</td>\n",
       "      <td>2020-03-28T12:10:02.987938Z</td>\n",
       "      <td>1.068003</td>\n",
       "      <td>28.535</td>\n",
       "      <td>1.372991e+07</td>\n",
       "      <td>2.145983e+07</td>\n",
       "      <td>109.240.192.231</td>\n",
       "    </tr>\n",
       "    <tr>\n",
       "      <td>27678</td>\n",
       "      <td>3038</td>\n",
       "      <td>Seltimil Oy</td>\n",
       "      <td>Jyvaskyla</td>\n",
       "      <td>2020-03-28T12:40:03.218262Z</td>\n",
       "      <td>1.068003</td>\n",
       "      <td>28.403</td>\n",
       "      <td>1.904317e+07</td>\n",
       "      <td>2.177915e+07</td>\n",
       "      <td>109.240.192.231</td>\n",
       "    </tr>\n",
       "    <tr>\n",
       "      <td>27679</td>\n",
       "      <td>3038</td>\n",
       "      <td>Seltimil Oy</td>\n",
       "      <td>Jyvaskyla</td>\n",
       "      <td>2020-03-28T13:10:02.868146Z</td>\n",
       "      <td>1.068003</td>\n",
       "      <td>27.745</td>\n",
       "      <td>1.579473e+07</td>\n",
       "      <td>3.232823e+06</td>\n",
       "      <td>109.240.192.231</td>\n",
       "    </tr>\n",
       "  </tbody>\n",
       "</table>\n",
       "<p>27680 rows × 9 columns</p>\n",
       "</div>"
      ],
      "text/plain": [
       "       Server ID      Sponsor  Server Name                    Timestamp  \\\n",
       "0           4113   AinaCom Oy  Hameenlinna  2019-04-27T14:42:34.795529Z   \n",
       "1           4549    Elisa Oyj     Helsinki  2019-04-27T14:51:03.157093Z   \n",
       "2           4549    Elisa Oyj     Helsinki  2019-04-27T15:00:03.191761Z   \n",
       "3           4113   AinaCom Oy  Hameenlinna  2019-04-27T15:17:02.991595Z   \n",
       "4           4549    Elisa Oyj     Helsinki  2019-04-27T15:34:03.359461Z   \n",
       "...          ...          ...          ...                          ...   \n",
       "27675       3038  Seltimil Oy    Jyvaskyla  2020-03-28T11:10:03.204795Z   \n",
       "27676       3038  Seltimil Oy    Jyvaskyla  2020-03-28T11:40:02.730371Z   \n",
       "27677       3038  Seltimil Oy    Jyvaskyla  2020-03-28T12:10:02.987938Z   \n",
       "27678       3038  Seltimil Oy    Jyvaskyla  2020-03-28T12:40:03.218262Z   \n",
       "27679       3038  Seltimil Oy    Jyvaskyla  2020-03-28T13:10:02.868146Z   \n",
       "\n",
       "         Distance    Ping      Download        Upload       IP Address  \n",
       "0       36.370597  31.108  1.093165e+07  2.298769e+07  109.240.230.177  \n",
       "1      130.306322  26.457  1.277750e+07  2.232226e+07  109.240.230.177  \n",
       "2      130.306322  27.276  1.254651e+07  2.550727e+07  109.240.230.177  \n",
       "3       36.370597  29.571  1.381782e+07  2.603921e+07  109.240.230.177  \n",
       "4      130.306322  29.533  8.309932e+06  2.568938e+07  109.240.230.177  \n",
       "...           ...     ...           ...           ...              ...  \n",
       "27675    1.068003  28.278  2.117625e+07  2.696977e+07  109.240.192.231  \n",
       "27676    1.068003  24.124  1.482492e+07  2.148748e+07  109.240.192.231  \n",
       "27677    1.068003  28.535  1.372991e+07  2.145983e+07  109.240.192.231  \n",
       "27678    1.068003  28.403  1.904317e+07  2.177915e+07  109.240.192.231  \n",
       "27679    1.068003  27.745  1.579473e+07  3.232823e+06  109.240.192.231  \n",
       "\n",
       "[27680 rows x 9 columns]"
      ]
     },
     "execution_count": 7,
     "metadata": {},
     "output_type": "execute_result"
    }
   ],
   "source": [
    "df"
   ]
  },
  {
   "cell_type": "markdown",
   "metadata": {},
   "source": [
    "Printataan sarakkeiden otsikot ja datatyypit:"
   ]
  },
  {
   "cell_type": "code",
   "execution_count": 8,
   "metadata": {},
   "outputs": [
    {
     "name": "stdout",
     "output_type": "stream",
     "text": [
      "Server ID        int64\n",
      "Sponsor         object\n",
      "Server Name     object\n",
      "Timestamp       object\n",
      "Distance       float64\n",
      "Ping           float64\n",
      "Download       float64\n",
      "Upload         float64\n",
      "IP Address      object\n",
      "dtype: object\n"
     ]
    }
   ],
   "source": [
    "print(df.dtypes)"
   ]
  },
  {
   "cell_type": "markdown",
   "metadata": {},
   "source": [
    "Sitten ihmetellään... Ping:ä "
   ]
  },
  {
   "cell_type": "code",
   "execution_count": 9,
   "metadata": {},
   "outputs": [],
   "source": [
    "y = df['Ping']"
   ]
  },
  {
   "cell_type": "code",
   "execution_count": 10,
   "metadata": {},
   "outputs": [
    {
     "data": {
      "text/plain": [
       "213.41612528901823"
      ]
     },
     "execution_count": 10,
     "metadata": {},
     "output_type": "execute_result"
    }
   ],
   "source": [
    "y.mean()"
   ]
  },
  {
   "cell_type": "code",
   "execution_count": 11,
   "metadata": {},
   "outputs": [
    {
     "data": {
      "text/plain": [
       "28.928"
      ]
     },
     "execution_count": 11,
     "metadata": {},
     "output_type": "execute_result"
    }
   ],
   "source": [
    "df['Ping'].median()"
   ]
  },
  {
   "cell_type": "markdown",
   "metadata": {},
   "source": [
    "Tutkitaan datan sisältöä hieman. Lasketaan keskiarvoja, mediaaneja ja minimi- sekä maksimiarvoja:"
   ]
  },
  {
   "cell_type": "code",
   "execution_count": 12,
   "metadata": {},
   "outputs": [
    {
     "data": {
      "text/html": [
       "<div>\n",
       "<style scoped>\n",
       "    .dataframe tbody tr th:only-of-type {\n",
       "        vertical-align: middle;\n",
       "    }\n",
       "\n",
       "    .dataframe tbody tr th {\n",
       "        vertical-align: top;\n",
       "    }\n",
       "\n",
       "    .dataframe thead th {\n",
       "        text-align: right;\n",
       "    }\n",
       "</style>\n",
       "<table border=\"1\" class=\"dataframe\">\n",
       "  <thead>\n",
       "    <tr style=\"text-align: right;\">\n",
       "      <th></th>\n",
       "      <th>Server ID</th>\n",
       "      <th>Distance</th>\n",
       "      <th>Ping</th>\n",
       "      <th>Download</th>\n",
       "      <th>Upload</th>\n",
       "    </tr>\n",
       "  </thead>\n",
       "  <tbody>\n",
       "    <tr>\n",
       "      <td>count</td>\n",
       "      <td>27680.000000</td>\n",
       "      <td>27680.000000</td>\n",
       "      <td>2.768000e+04</td>\n",
       "      <td>2.768000e+04</td>\n",
       "      <td>2.768000e+04</td>\n",
       "    </tr>\n",
       "    <tr>\n",
       "      <td>mean</td>\n",
       "      <td>8466.049819</td>\n",
       "      <td>92.508027</td>\n",
       "      <td>2.134161e+02</td>\n",
       "      <td>2.292833e+07</td>\n",
       "      <td>1.521940e+07</td>\n",
       "    </tr>\n",
       "    <tr>\n",
       "      <td>std</td>\n",
       "      <td>6510.544510</td>\n",
       "      <td>56.816467</td>\n",
       "      <td>7.231648e+03</td>\n",
       "      <td>1.489841e+07</td>\n",
       "      <td>6.020490e+06</td>\n",
       "    </tr>\n",
       "    <tr>\n",
       "      <td>min</td>\n",
       "      <td>2138.000000</td>\n",
       "      <td>0.000000</td>\n",
       "      <td>1.940800e+01</td>\n",
       "      <td>0.000000e+00</td>\n",
       "      <td>0.000000e+00</td>\n",
       "    </tr>\n",
       "    <tr>\n",
       "      <td>25%</td>\n",
       "      <td>3038.000000</td>\n",
       "      <td>21.811732</td>\n",
       "      <td>2.691000e+01</td>\n",
       "      <td>1.125383e+07</td>\n",
       "      <td>1.142073e+07</td>\n",
       "    </tr>\n",
       "    <tr>\n",
       "      <td>50%</td>\n",
       "      <td>4549.000000</td>\n",
       "      <td>128.067999</td>\n",
       "      <td>2.892800e+01</td>\n",
       "      <td>1.973021e+07</td>\n",
       "      <td>1.539129e+07</td>\n",
       "    </tr>\n",
       "    <tr>\n",
       "      <td>75%</td>\n",
       "      <td>13247.000000</td>\n",
       "      <td>130.148654</td>\n",
       "      <td>3.159625e+01</td>\n",
       "      <td>3.179553e+07</td>\n",
       "      <td>1.937616e+07</td>\n",
       "    </tr>\n",
       "    <tr>\n",
       "      <td>max</td>\n",
       "      <td>29251.000000</td>\n",
       "      <td>345.199800</td>\n",
       "      <td>1.200534e+06</td>\n",
       "      <td>8.697986e+07</td>\n",
       "      <td>3.670865e+07</td>\n",
       "    </tr>\n",
       "  </tbody>\n",
       "</table>\n",
       "</div>"
      ],
      "text/plain": [
       "          Server ID      Distance          Ping      Download        Upload\n",
       "count  27680.000000  27680.000000  2.768000e+04  2.768000e+04  2.768000e+04\n",
       "mean    8466.049819     92.508027  2.134161e+02  2.292833e+07  1.521940e+07\n",
       "std     6510.544510     56.816467  7.231648e+03  1.489841e+07  6.020490e+06\n",
       "min     2138.000000      0.000000  1.940800e+01  0.000000e+00  0.000000e+00\n",
       "25%     3038.000000     21.811732  2.691000e+01  1.125383e+07  1.142073e+07\n",
       "50%     4549.000000    128.067999  2.892800e+01  1.973021e+07  1.539129e+07\n",
       "75%    13247.000000    130.148654  3.159625e+01  3.179553e+07  1.937616e+07\n",
       "max    29251.000000    345.199800  1.200534e+06  8.697986e+07  3.670865e+07"
      ]
     },
     "execution_count": 12,
     "metadata": {},
     "output_type": "execute_result"
    }
   ],
   "source": [
    "df.describe()"
   ]
  },
  {
   "cell_type": "code",
   "execution_count": 13,
   "metadata": {},
   "outputs": [
    {
     "data": {
      "text/plain": [
       "28.928"
      ]
     },
     "execution_count": 13,
     "metadata": {},
     "output_type": "execute_result"
    }
   ],
   "source": [
    "df['Ping'].median()"
   ]
  },
  {
   "cell_type": "code",
   "execution_count": 14,
   "metadata": {},
   "outputs": [
    {
     "data": {
      "text/plain": [
       "19730207.73615317"
      ]
     },
     "execution_count": 14,
     "metadata": {},
     "output_type": "execute_result"
    }
   ],
   "source": [
    "df['Download'].median()"
   ]
  },
  {
   "cell_type": "code",
   "execution_count": 15,
   "metadata": {},
   "outputs": [
    {
     "data": {
      "text/plain": [
       "15391286.426317185"
      ]
     },
     "execution_count": 15,
     "metadata": {},
     "output_type": "execute_result"
    }
   ],
   "source": [
    "df['Upload'].median()"
   ]
  },
  {
   "cell_type": "code",
   "execution_count": 16,
   "metadata": {},
   "outputs": [
    {
     "data": {
      "text/html": [
       "<div>\n",
       "<style scoped>\n",
       "    .dataframe tbody tr th:only-of-type {\n",
       "        vertical-align: middle;\n",
       "    }\n",
       "\n",
       "    .dataframe tbody tr th {\n",
       "        vertical-align: top;\n",
       "    }\n",
       "\n",
       "    .dataframe thead th {\n",
       "        text-align: right;\n",
       "    }\n",
       "</style>\n",
       "<table border=\"1\" class=\"dataframe\">\n",
       "  <thead>\n",
       "    <tr style=\"text-align: right;\">\n",
       "      <th></th>\n",
       "      <th>Server ID</th>\n",
       "      <th>Sponsor</th>\n",
       "      <th>Server Name</th>\n",
       "      <th>Timestamp</th>\n",
       "      <th>Distance</th>\n",
       "      <th>Ping</th>\n",
       "      <th>Download</th>\n",
       "      <th>Upload</th>\n",
       "      <th>IP Address</th>\n",
       "    </tr>\n",
       "  </thead>\n",
       "  <tbody>\n",
       "    <tr>\n",
       "      <td>0</td>\n",
       "      <td>4113</td>\n",
       "      <td>AinaCom Oy</td>\n",
       "      <td>Hameenlinna</td>\n",
       "      <td>2019-04-27T14:42:34.795529Z</td>\n",
       "      <td>36.370597</td>\n",
       "      <td>31.108</td>\n",
       "      <td>1.093165e+07</td>\n",
       "      <td>2.298769e+07</td>\n",
       "      <td>109.240.230.177</td>\n",
       "    </tr>\n",
       "    <tr>\n",
       "      <td>1</td>\n",
       "      <td>4549</td>\n",
       "      <td>Elisa Oyj</td>\n",
       "      <td>Helsinki</td>\n",
       "      <td>2019-04-27T14:51:03.157093Z</td>\n",
       "      <td>130.306322</td>\n",
       "      <td>26.457</td>\n",
       "      <td>1.277750e+07</td>\n",
       "      <td>2.232226e+07</td>\n",
       "      <td>109.240.230.177</td>\n",
       "    </tr>\n",
       "    <tr>\n",
       "      <td>2</td>\n",
       "      <td>4549</td>\n",
       "      <td>Elisa Oyj</td>\n",
       "      <td>Helsinki</td>\n",
       "      <td>2019-04-27T15:00:03.191761Z</td>\n",
       "      <td>130.306322</td>\n",
       "      <td>27.276</td>\n",
       "      <td>1.254651e+07</td>\n",
       "      <td>2.550727e+07</td>\n",
       "      <td>109.240.230.177</td>\n",
       "    </tr>\n",
       "    <tr>\n",
       "      <td>3</td>\n",
       "      <td>4113</td>\n",
       "      <td>AinaCom Oy</td>\n",
       "      <td>Hameenlinna</td>\n",
       "      <td>2019-04-27T15:17:02.991595Z</td>\n",
       "      <td>36.370597</td>\n",
       "      <td>29.571</td>\n",
       "      <td>1.381782e+07</td>\n",
       "      <td>2.603921e+07</td>\n",
       "      <td>109.240.230.177</td>\n",
       "    </tr>\n",
       "    <tr>\n",
       "      <td>4</td>\n",
       "      <td>4549</td>\n",
       "      <td>Elisa Oyj</td>\n",
       "      <td>Helsinki</td>\n",
       "      <td>2019-04-27T15:34:03.359461Z</td>\n",
       "      <td>130.306322</td>\n",
       "      <td>29.533</td>\n",
       "      <td>8.309932e+06</td>\n",
       "      <td>2.568938e+07</td>\n",
       "      <td>109.240.230.177</td>\n",
       "    </tr>\n",
       "  </tbody>\n",
       "</table>\n",
       "</div>"
      ],
      "text/plain": [
       "   Server ID     Sponsor  Server Name                    Timestamp  \\\n",
       "0       4113  AinaCom Oy  Hameenlinna  2019-04-27T14:42:34.795529Z   \n",
       "1       4549   Elisa Oyj     Helsinki  2019-04-27T14:51:03.157093Z   \n",
       "2       4549   Elisa Oyj     Helsinki  2019-04-27T15:00:03.191761Z   \n",
       "3       4113  AinaCom Oy  Hameenlinna  2019-04-27T15:17:02.991595Z   \n",
       "4       4549   Elisa Oyj     Helsinki  2019-04-27T15:34:03.359461Z   \n",
       "\n",
       "     Distance    Ping      Download        Upload       IP Address  \n",
       "0   36.370597  31.108  1.093165e+07  2.298769e+07  109.240.230.177  \n",
       "1  130.306322  26.457  1.277750e+07  2.232226e+07  109.240.230.177  \n",
       "2  130.306322  27.276  1.254651e+07  2.550727e+07  109.240.230.177  \n",
       "3   36.370597  29.571  1.381782e+07  2.603921e+07  109.240.230.177  \n",
       "4  130.306322  29.533  8.309932e+06  2.568938e+07  109.240.230.177  "
      ]
     },
     "execution_count": 16,
     "metadata": {},
     "output_type": "execute_result"
    }
   ],
   "source": [
    "df.head()"
   ]
  },
  {
   "cell_type": "code",
   "execution_count": 17,
   "metadata": {},
   "outputs": [
    {
     "name": "stdout",
     "output_type": "stream",
     "text": [
      "Server ID        int64\n",
      "Sponsor         object\n",
      "Server Name     object\n",
      "Timestamp       object\n",
      "Distance       float64\n",
      "Ping           float64\n",
      "Download       float64\n",
      "Upload         float64\n",
      "IP Address      object\n",
      "dtype: object\n"
     ]
    }
   ],
   "source": [
    "print(df.dtypes)"
   ]
  },
  {
   "cell_type": "markdown",
   "metadata": {},
   "source": [
    "Muutetaan Timestampin datatyyppi objektista datetime64 ja printataan datatyypit uudelleen:"
   ]
  },
  {
   "cell_type": "code",
   "execution_count": 18,
   "metadata": {},
   "outputs": [],
   "source": [
    "df['Timestamp'] = pd.to_datetime(df['Timestamp'])"
   ]
  },
  {
   "cell_type": "code",
   "execution_count": 19,
   "metadata": {},
   "outputs": [
    {
     "name": "stdout",
     "output_type": "stream",
     "text": [
      "Server ID                    int64\n",
      "Sponsor                     object\n",
      "Server Name                 object\n",
      "Timestamp      datetime64[ns, UTC]\n",
      "Distance                   float64\n",
      "Ping                       float64\n",
      "Download                   float64\n",
      "Upload                     float64\n",
      "IP Address                  object\n",
      "dtype: object\n"
     ]
    }
   ],
   "source": [
    "print(df.dtypes)"
   ]
  },
  {
   "cell_type": "code",
   "execution_count": 20,
   "metadata": {},
   "outputs": [],
   "source": [
    "# Vaihdetaan aikavyöhykkeeksi Suomen paikallinen aika (aiemmin UTC)\n",
    "df['Timestamp'] = pd.to_datetime(df['Timestamp']).dt.tz_convert('Europe/Helsinki')"
   ]
  },
  {
   "cell_type": "code",
   "execution_count": 21,
   "metadata": {},
   "outputs": [
    {
     "data": {
      "text/plain": [
       "0       2019-04-27 17:42:34.795529+03:00\n",
       "1       2019-04-27 17:51:03.157093+03:00\n",
       "2       2019-04-27 18:00:03.191761+03:00\n",
       "3       2019-04-27 18:17:02.991595+03:00\n",
       "4       2019-04-27 18:34:03.359461+03:00\n",
       "                      ...               \n",
       "27675   2020-03-28 13:10:03.204795+02:00\n",
       "27676   2020-03-28 13:40:02.730371+02:00\n",
       "27677   2020-03-28 14:10:02.987938+02:00\n",
       "27678   2020-03-28 14:40:03.218262+02:00\n",
       "27679   2020-03-28 15:10:02.868146+02:00\n",
       "Name: Timestamp, Length: 27680, dtype: datetime64[ns, Europe/Helsinki]"
      ]
     },
     "execution_count": 21,
     "metadata": {},
     "output_type": "execute_result"
    }
   ],
   "source": [
    "df['Timestamp']"
   ]
  },
  {
   "cell_type": "markdown",
   "metadata": {},
   "source": [
    "Tutkitaan datasta Sponsoreiden lukumäärää ja niiden esiintymistä."
   ]
  },
  {
   "cell_type": "code",
   "execution_count": 22,
   "metadata": {},
   "outputs": [],
   "source": [
    "sponsor_lkm = df['Sponsor'].value_counts().to_frame()"
   ]
  },
  {
   "cell_type": "code",
   "execution_count": 23,
   "metadata": {},
   "outputs": [
    {
     "name": "stdout",
     "output_type": "stream",
     "text": [
      "                                 Sponsor\n",
      "Lounea                              9092\n",
      "Seltimil Oy                         8470\n",
      "Elisa Oyj                           5305\n",
      "Teliacommunication Oy               2010\n",
      "Netplaza Oy                         1788\n",
      "AinaCom Oy                           668\n",
      "Web1 Oy                              117\n",
      "JNT                                   60\n",
      "Napapiirin Kuituverkot Oy             43\n",
      "Kaisanet Oy                           40\n",
      "Omerta.io                             23\n",
      "Storbackas                            20\n",
      "Keski-Suomen Valokuituverkot Oy       14\n",
      "Mati forsman                          12\n",
      "MPY Telecom Oyj                        9\n",
      "GLH Netsolutions                       4\n",
      "Elmo                                   4\n",
      "MPY Palvelut Oyj                       1\n"
     ]
    }
   ],
   "source": [
    "print(sponsor_lkm)"
   ]
  },
  {
   "cell_type": "markdown",
   "metadata": {},
   "source": [
    "Tutkitaan datasta käytettyjen Serveri ID:n lukumäärää ja niiden esiintymistä."
   ]
  },
  {
   "cell_type": "code",
   "execution_count": 24,
   "metadata": {},
   "outputs": [],
   "source": [
    "ID_lkm = df['Server ID'].value_counts().to_frame()"
   ]
  },
  {
   "cell_type": "code",
   "execution_count": 25,
   "metadata": {},
   "outputs": [
    {
     "name": "stdout",
     "output_type": "stream",
     "text": [
      "       Server ID\n",
      "13247       9092\n",
      "3038        8470\n",
      "4549        2949\n",
      "4113        2678\n",
      "22669       2356\n",
      "2138        1788\n",
      "29251        117\n",
      "6875          60\n",
      "26606         43\n",
      "4565          40\n",
      "23637         23\n",
      "11898         20\n",
      "9681          14\n",
      "17254         12\n",
      "10343         10\n",
      "5055           4\n",
      "24196          4\n"
     ]
    }
   ],
   "source": [
    "print(ID_lkm)"
   ]
  },
  {
   "cell_type": "markdown",
   "metadata": {},
   "source": [
    "Vastaavasti katsotaan IP-osoitteiden määrää ja esiintymiskertoja"
   ]
  },
  {
   "cell_type": "code",
   "execution_count": 26,
   "metadata": {},
   "outputs": [
    {
     "name": "stdout",
     "output_type": "stream",
     "text": [
      "                 IP Address\n",
      "109.240.192.98         3515\n",
      "109.240.218.231        2923\n",
      "109.240.251.44         2716\n",
      "109.240.32.105         1863\n",
      "109.240.121.149        1776\n",
      "109.240.95.205         1728\n",
      "109.240.230.177        1340\n",
      "109.240.85.102         1332\n",
      "109.240.192.231        1140\n",
      "109.240.246.172        1060\n",
      "109.240.219.178         910\n",
      "109.240.49.178          907\n",
      "109.240.242.162         731\n",
      "109.240.251.68          678\n",
      "109.240.33.16           671\n",
      "109.240.145.139         483\n",
      "188.238.234.117         398\n",
      "188.238.243.137         366\n",
      "109.240.188.80          360\n",
      "109.240.9.3             340\n",
      "109.240.123.213         293\n",
      "109.240.185.228         289\n",
      "109.240.138.113         284\n",
      "109.240.94.242          207\n",
      "109.240.45.94           198\n",
      "109.240.67.210          197\n",
      "188.238.68.209          183\n",
      "109.240.26.129          170\n",
      "109.240.101.53          126\n",
      "109.240.61.0            100\n",
      "109.240.1.102            95\n",
      "109.240.17.32            87\n",
      "109.240.79.119           86\n",
      "109.240.15.79            65\n",
      "188.238.160.192          17\n",
      "109.240.60.48            15\n",
      "109.240.249.78            8\n",
      "109.240.216.194           7\n",
      "109.240.51.87             5\n",
      "109.240.39.92             5\n",
      "109.240.90.125            4\n",
      "109.240.134.174           1\n",
      "46.132.5.200              1\n"
     ]
    }
   ],
   "source": [
    "ip_add = df['IP Address'].value_counts().to_frame() \n",
    "print(ip_add)"
   ]
  },
  {
   "cell_type": "code",
   "execution_count": 27,
   "metadata": {},
   "outputs": [
    {
     "data": {
      "text/html": [
       "<div>\n",
       "<style scoped>\n",
       "    .dataframe tbody tr th:only-of-type {\n",
       "        vertical-align: middle;\n",
       "    }\n",
       "\n",
       "    .dataframe tbody tr th {\n",
       "        vertical-align: top;\n",
       "    }\n",
       "\n",
       "    .dataframe thead th {\n",
       "        text-align: right;\n",
       "    }\n",
       "</style>\n",
       "<table border=\"1\" class=\"dataframe\">\n",
       "  <thead>\n",
       "    <tr style=\"text-align: right;\">\n",
       "      <th></th>\n",
       "      <th>Server ID</th>\n",
       "      <th>Sponsor</th>\n",
       "      <th>Server Name</th>\n",
       "      <th>Timestamp</th>\n",
       "      <th>Distance</th>\n",
       "      <th>Ping</th>\n",
       "      <th>Download</th>\n",
       "      <th>Upload</th>\n",
       "      <th>IP Address</th>\n",
       "    </tr>\n",
       "  </thead>\n",
       "  <tbody>\n",
       "    <tr>\n",
       "      <td>27675</td>\n",
       "      <td>3038</td>\n",
       "      <td>Seltimil Oy</td>\n",
       "      <td>Jyvaskyla</td>\n",
       "      <td>2020-03-28 13:10:03.204795+02:00</td>\n",
       "      <td>1.068003</td>\n",
       "      <td>28.278</td>\n",
       "      <td>2.117625e+07</td>\n",
       "      <td>2.696977e+07</td>\n",
       "      <td>109.240.192.231</td>\n",
       "    </tr>\n",
       "    <tr>\n",
       "      <td>27676</td>\n",
       "      <td>3038</td>\n",
       "      <td>Seltimil Oy</td>\n",
       "      <td>Jyvaskyla</td>\n",
       "      <td>2020-03-28 13:40:02.730371+02:00</td>\n",
       "      <td>1.068003</td>\n",
       "      <td>24.124</td>\n",
       "      <td>1.482492e+07</td>\n",
       "      <td>2.148748e+07</td>\n",
       "      <td>109.240.192.231</td>\n",
       "    </tr>\n",
       "    <tr>\n",
       "      <td>27677</td>\n",
       "      <td>3038</td>\n",
       "      <td>Seltimil Oy</td>\n",
       "      <td>Jyvaskyla</td>\n",
       "      <td>2020-03-28 14:10:02.987938+02:00</td>\n",
       "      <td>1.068003</td>\n",
       "      <td>28.535</td>\n",
       "      <td>1.372991e+07</td>\n",
       "      <td>2.145983e+07</td>\n",
       "      <td>109.240.192.231</td>\n",
       "    </tr>\n",
       "    <tr>\n",
       "      <td>27678</td>\n",
       "      <td>3038</td>\n",
       "      <td>Seltimil Oy</td>\n",
       "      <td>Jyvaskyla</td>\n",
       "      <td>2020-03-28 14:40:03.218262+02:00</td>\n",
       "      <td>1.068003</td>\n",
       "      <td>28.403</td>\n",
       "      <td>1.904317e+07</td>\n",
       "      <td>2.177915e+07</td>\n",
       "      <td>109.240.192.231</td>\n",
       "    </tr>\n",
       "    <tr>\n",
       "      <td>27679</td>\n",
       "      <td>3038</td>\n",
       "      <td>Seltimil Oy</td>\n",
       "      <td>Jyvaskyla</td>\n",
       "      <td>2020-03-28 15:10:02.868146+02:00</td>\n",
       "      <td>1.068003</td>\n",
       "      <td>27.745</td>\n",
       "      <td>1.579473e+07</td>\n",
       "      <td>3.232823e+06</td>\n",
       "      <td>109.240.192.231</td>\n",
       "    </tr>\n",
       "  </tbody>\n",
       "</table>\n",
       "</div>"
      ],
      "text/plain": [
       "       Server ID      Sponsor Server Name                        Timestamp  \\\n",
       "27675       3038  Seltimil Oy   Jyvaskyla 2020-03-28 13:10:03.204795+02:00   \n",
       "27676       3038  Seltimil Oy   Jyvaskyla 2020-03-28 13:40:02.730371+02:00   \n",
       "27677       3038  Seltimil Oy   Jyvaskyla 2020-03-28 14:10:02.987938+02:00   \n",
       "27678       3038  Seltimil Oy   Jyvaskyla 2020-03-28 14:40:03.218262+02:00   \n",
       "27679       3038  Seltimil Oy   Jyvaskyla 2020-03-28 15:10:02.868146+02:00   \n",
       "\n",
       "       Distance    Ping      Download        Upload       IP Address  \n",
       "27675  1.068003  28.278  2.117625e+07  2.696977e+07  109.240.192.231  \n",
       "27676  1.068003  24.124  1.482492e+07  2.148748e+07  109.240.192.231  \n",
       "27677  1.068003  28.535  1.372991e+07  2.145983e+07  109.240.192.231  \n",
       "27678  1.068003  28.403  1.904317e+07  2.177915e+07  109.240.192.231  \n",
       "27679  1.068003  27.745  1.579473e+07  3.232823e+06  109.240.192.231  "
      ]
     },
     "execution_count": 27,
     "metadata": {},
     "output_type": "execute_result"
    }
   ],
   "source": [
    "df.tail()"
   ]
  },
  {
   "cell_type": "markdown",
   "metadata": {},
   "source": [
    "Kopioidaan uuteen muuttujaan dfNum sarakkeet Ping, Download ja Upload.\n",
    "Varmistetaan, ettei niissä ole tyhjiä arvoja. Tsekataan niiden histogrammit. "
   ]
  },
  {
   "cell_type": "code",
   "execution_count": 28,
   "metadata": {},
   "outputs": [],
   "source": [
    "dfNum = df[['Ping','Download', 'Upload']]"
   ]
  },
  {
   "cell_type": "code",
   "execution_count": 29,
   "metadata": {},
   "outputs": [
    {
     "data": {
      "text/plain": [
       "Ping        0\n",
       "Download    0\n",
       "Upload      0\n",
       "dtype: int64"
      ]
     },
     "execution_count": 29,
     "metadata": {},
     "output_type": "execute_result"
    }
   ],
   "source": [
    "dfNum.isnull().sum()"
   ]
  },
  {
   "cell_type": "code",
   "execution_count": 30,
   "metadata": {},
   "outputs": [
    {
     "data": {
      "image/png": "[encoded data removed]",
      "text/plain": [
       "<Figure size 432x288 with 4 Axes>"
      ]
     },
     "metadata": {
      "needs_background": "light"
     },
     "output_type": "display_data"
    }
   ],
   "source": [
    "hist = dfNum.hist()"
   ]
  },
  {
   "cell_type": "code",
   "execution_count": 31,
   "metadata": {},
   "outputs": [],
   "source": [
    "# df_upl = df['Upload']\n",
    "# df_upl.tail()"
   ]
  },
  {
   "cell_type": "code",
   "execution_count": 32,
   "metadata": {},
   "outputs": [],
   "source": [
    "# len(df_upl)"
   ]
  },
  {
   "cell_type": "markdown",
   "metadata": {},
   "source": [
    "Tutkitaan, kuinka usein download ja upload on ollut 0.0: "
   ]
  },
  {
   "cell_type": "code",
   "execution_count": 33,
   "metadata": {},
   "outputs": [
    {
     "data": {
      "text/plain": [
       "12"
      ]
     },
     "execution_count": 33,
     "metadata": {},
     "output_type": "execute_result"
    }
   ],
   "source": [
    "len([x for x in df['Upload'] if x == 0.0])"
   ]
  },
  {
   "cell_type": "code",
   "execution_count": 34,
   "metadata": {},
   "outputs": [
    {
     "data": {
      "text/plain": [
       "2"
      ]
     },
     "execution_count": 34,
     "metadata": {},
     "output_type": "execute_result"
    }
   ],
   "source": [
    "len([x for x in df['Download'] if x == 0.0])"
   ]
  },
  {
   "cell_type": "code",
   "execution_count": 35,
   "metadata": {},
   "outputs": [
    {
     "data": {
      "text/html": [
       "<div>\n",
       "<style scoped>\n",
       "    .dataframe tbody tr th:only-of-type {\n",
       "        vertical-align: middle;\n",
       "    }\n",
       "\n",
       "    .dataframe tbody tr th {\n",
       "        vertical-align: top;\n",
       "    }\n",
       "\n",
       "    .dataframe thead th {\n",
       "        text-align: right;\n",
       "    }\n",
       "</style>\n",
       "<table border=\"1\" class=\"dataframe\">\n",
       "  <thead>\n",
       "    <tr style=\"text-align: right;\">\n",
       "      <th></th>\n",
       "      <th>Server ID</th>\n",
       "      <th>Sponsor</th>\n",
       "      <th>Server Name</th>\n",
       "      <th>Timestamp</th>\n",
       "      <th>Distance</th>\n",
       "      <th>Ping</th>\n",
       "      <th>Download</th>\n",
       "      <th>Upload</th>\n",
       "      <th>IP Address</th>\n",
       "    </tr>\n",
       "  </thead>\n",
       "  <tbody>\n",
       "    <tr>\n",
       "      <td>0</td>\n",
       "      <td>4113</td>\n",
       "      <td>AinaCom Oy</td>\n",
       "      <td>Hameenlinna</td>\n",
       "      <td>2019-04-27 17:42:34.795529+03:00</td>\n",
       "      <td>36.370597</td>\n",
       "      <td>31.108</td>\n",
       "      <td>1.093165e+07</td>\n",
       "      <td>2.298769e+07</td>\n",
       "      <td>109.240.230.177</td>\n",
       "    </tr>\n",
       "    <tr>\n",
       "      <td>1</td>\n",
       "      <td>4549</td>\n",
       "      <td>Elisa Oyj</td>\n",
       "      <td>Helsinki</td>\n",
       "      <td>2019-04-27 17:51:03.157093+03:00</td>\n",
       "      <td>130.306322</td>\n",
       "      <td>26.457</td>\n",
       "      <td>1.277750e+07</td>\n",
       "      <td>2.232226e+07</td>\n",
       "      <td>109.240.230.177</td>\n",
       "    </tr>\n",
       "    <tr>\n",
       "      <td>2</td>\n",
       "      <td>4549</td>\n",
       "      <td>Elisa Oyj</td>\n",
       "      <td>Helsinki</td>\n",
       "      <td>2019-04-27 18:00:03.191761+03:00</td>\n",
       "      <td>130.306322</td>\n",
       "      <td>27.276</td>\n",
       "      <td>1.254651e+07</td>\n",
       "      <td>2.550727e+07</td>\n",
       "      <td>109.240.230.177</td>\n",
       "    </tr>\n",
       "    <tr>\n",
       "      <td>3</td>\n",
       "      <td>4113</td>\n",
       "      <td>AinaCom Oy</td>\n",
       "      <td>Hameenlinna</td>\n",
       "      <td>2019-04-27 18:17:02.991595+03:00</td>\n",
       "      <td>36.370597</td>\n",
       "      <td>29.571</td>\n",
       "      <td>1.381782e+07</td>\n",
       "      <td>2.603921e+07</td>\n",
       "      <td>109.240.230.177</td>\n",
       "    </tr>\n",
       "    <tr>\n",
       "      <td>4</td>\n",
       "      <td>4549</td>\n",
       "      <td>Elisa Oyj</td>\n",
       "      <td>Helsinki</td>\n",
       "      <td>2019-04-27 18:34:03.359461+03:00</td>\n",
       "      <td>130.306322</td>\n",
       "      <td>29.533</td>\n",
       "      <td>8.309932e+06</td>\n",
       "      <td>2.568938e+07</td>\n",
       "      <td>109.240.230.177</td>\n",
       "    </tr>\n",
       "    <tr>\n",
       "      <td>...</td>\n",
       "      <td>...</td>\n",
       "      <td>...</td>\n",
       "      <td>...</td>\n",
       "      <td>...</td>\n",
       "      <td>...</td>\n",
       "      <td>...</td>\n",
       "      <td>...</td>\n",
       "      <td>...</td>\n",
       "      <td>...</td>\n",
       "    </tr>\n",
       "    <tr>\n",
       "      <td>27675</td>\n",
       "      <td>3038</td>\n",
       "      <td>Seltimil Oy</td>\n",
       "      <td>Jyvaskyla</td>\n",
       "      <td>2020-03-28 13:10:03.204795+02:00</td>\n",
       "      <td>1.068003</td>\n",
       "      <td>28.278</td>\n",
       "      <td>2.117625e+07</td>\n",
       "      <td>2.696977e+07</td>\n",
       "      <td>109.240.192.231</td>\n",
       "    </tr>\n",
       "    <tr>\n",
       "      <td>27676</td>\n",
       "      <td>3038</td>\n",
       "      <td>Seltimil Oy</td>\n",
       "      <td>Jyvaskyla</td>\n",
       "      <td>2020-03-28 13:40:02.730371+02:00</td>\n",
       "      <td>1.068003</td>\n",
       "      <td>24.124</td>\n",
       "      <td>1.482492e+07</td>\n",
       "      <td>2.148748e+07</td>\n",
       "      <td>109.240.192.231</td>\n",
       "    </tr>\n",
       "    <tr>\n",
       "      <td>27677</td>\n",
       "      <td>3038</td>\n",
       "      <td>Seltimil Oy</td>\n",
       "      <td>Jyvaskyla</td>\n",
       "      <td>2020-03-28 14:10:02.987938+02:00</td>\n",
       "      <td>1.068003</td>\n",
       "      <td>28.535</td>\n",
       "      <td>1.372991e+07</td>\n",
       "      <td>2.145983e+07</td>\n",
       "      <td>109.240.192.231</td>\n",
       "    </tr>\n",
       "    <tr>\n",
       "      <td>27678</td>\n",
       "      <td>3038</td>\n",
       "      <td>Seltimil Oy</td>\n",
       "      <td>Jyvaskyla</td>\n",
       "      <td>2020-03-28 14:40:03.218262+02:00</td>\n",
       "      <td>1.068003</td>\n",
       "      <td>28.403</td>\n",
       "      <td>1.904317e+07</td>\n",
       "      <td>2.177915e+07</td>\n",
       "      <td>109.240.192.231</td>\n",
       "    </tr>\n",
       "    <tr>\n",
       "      <td>27679</td>\n",
       "      <td>3038</td>\n",
       "      <td>Seltimil Oy</td>\n",
       "      <td>Jyvaskyla</td>\n",
       "      <td>2020-03-28 15:10:02.868146+02:00</td>\n",
       "      <td>1.068003</td>\n",
       "      <td>27.745</td>\n",
       "      <td>1.579473e+07</td>\n",
       "      <td>3.232823e+06</td>\n",
       "      <td>109.240.192.231</td>\n",
       "    </tr>\n",
       "  </tbody>\n",
       "</table>\n",
       "<p>27680 rows × 9 columns</p>\n",
       "</div>"
      ],
      "text/plain": [
       "       Server ID      Sponsor  Server Name                        Timestamp  \\\n",
       "0           4113   AinaCom Oy  Hameenlinna 2019-04-27 17:42:34.795529+03:00   \n",
       "1           4549    Elisa Oyj     Helsinki 2019-04-27 17:51:03.157093+03:00   \n",
       "2           4549    Elisa Oyj     Helsinki 2019-04-27 18:00:03.191761+03:00   \n",
       "3           4113   AinaCom Oy  Hameenlinna 2019-04-27 18:17:02.991595+03:00   \n",
       "4           4549    Elisa Oyj     Helsinki 2019-04-27 18:34:03.359461+03:00   \n",
       "...          ...          ...          ...                              ...   \n",
       "27675       3038  Seltimil Oy    Jyvaskyla 2020-03-28 13:10:03.204795+02:00   \n",
       "27676       3038  Seltimil Oy    Jyvaskyla 2020-03-28 13:40:02.730371+02:00   \n",
       "27677       3038  Seltimil Oy    Jyvaskyla 2020-03-28 14:10:02.987938+02:00   \n",
       "27678       3038  Seltimil Oy    Jyvaskyla 2020-03-28 14:40:03.218262+02:00   \n",
       "27679       3038  Seltimil Oy    Jyvaskyla 2020-03-28 15:10:02.868146+02:00   \n",
       "\n",
       "         Distance    Ping      Download        Upload       IP Address  \n",
       "0       36.370597  31.108  1.093165e+07  2.298769e+07  109.240.230.177  \n",
       "1      130.306322  26.457  1.277750e+07  2.232226e+07  109.240.230.177  \n",
       "2      130.306322  27.276  1.254651e+07  2.550727e+07  109.240.230.177  \n",
       "3       36.370597  29.571  1.381782e+07  2.603921e+07  109.240.230.177  \n",
       "4      130.306322  29.533  8.309932e+06  2.568938e+07  109.240.230.177  \n",
       "...           ...     ...           ...           ...              ...  \n",
       "27675    1.068003  28.278  2.117625e+07  2.696977e+07  109.240.192.231  \n",
       "27676    1.068003  24.124  1.482492e+07  2.148748e+07  109.240.192.231  \n",
       "27677    1.068003  28.535  1.372991e+07  2.145983e+07  109.240.192.231  \n",
       "27678    1.068003  28.403  1.904317e+07  2.177915e+07  109.240.192.231  \n",
       "27679    1.068003  27.745  1.579473e+07  3.232823e+06  109.240.192.231  \n",
       "\n",
       "[27680 rows x 9 columns]"
      ]
     },
     "execution_count": 35,
     "metadata": {},
     "output_type": "execute_result"
    }
   ],
   "source": [
    "df"
   ]
  },
  {
   "cell_type": "code",
   "execution_count": 36,
   "metadata": {},
   "outputs": [
    {
     "name": "stdout",
     "output_type": "stream",
     "text": [
      "       Server ID      Sponsor Server Name                        Timestamp  \\\n",
      "27675       3038  Seltimil Oy   Jyvaskyla 2020-03-28 13:10:03.204795+02:00   \n",
      "27676       3038  Seltimil Oy   Jyvaskyla 2020-03-28 13:40:02.730371+02:00   \n",
      "27677       3038  Seltimil Oy   Jyvaskyla 2020-03-28 14:10:02.987938+02:00   \n",
      "27678       3038  Seltimil Oy   Jyvaskyla 2020-03-28 14:40:03.218262+02:00   \n",
      "27679       3038  Seltimil Oy   Jyvaskyla 2020-03-28 15:10:02.868146+02:00   \n",
      "\n",
      "       Distance    Ping      Download        Upload       IP Address  \\\n",
      "27675  1.068003  28.278  2.117625e+07  2.696977e+07  109.240.192.231   \n",
      "27676  1.068003  24.124  1.482492e+07  2.148748e+07  109.240.192.231   \n",
      "27677  1.068003  28.535  1.372991e+07  2.145983e+07  109.240.192.231   \n",
      "27678  1.068003  28.403  1.904317e+07  2.177915e+07  109.240.192.231   \n",
      "27679  1.068003  27.745  1.579473e+07  3.232823e+06  109.240.192.231   \n",
      "\n",
      "       meas_hour  meas_day_of_week  meas_month  meas_is_weekend  \n",
      "27675         13                 5           2             True  \n",
      "27676         13                 5           2             True  \n",
      "27677         14                 5           2             True  \n",
      "27678         14                 5           2             True  \n",
      "27679         15                 5           2             True  \n"
     ]
    }
   ],
   "source": [
    "# Luodaan aikaleimasta uudet sarakkeet meas_hour, meas_day_of_week  meas_month  meas_is_weekend\n",
    "df_filtered = df\n",
    "\n",
    "df_filtered['meas_hour'] = df_filtered.Timestamp.dt.hour\n",
    "df_filtered['meas_day_of_week'] = df_filtered.Timestamp.dt.dayofweek\n",
    "df_filtered['meas_month'] = df_filtered.Timestamp.dt.month - 1  # to count from zero\n",
    "df_filtered['meas_is_weekend'] = (df_filtered.meas_day_of_week>=5)\n",
    "\n",
    "print(df_filtered.tail())"
   ]
  },
  {
   "cell_type": "code",
   "execution_count": 37,
   "metadata": {},
   "outputs": [
    {
     "name": "stdout",
     "output_type": "stream",
     "text": [
      "Server ID                                     int64\n",
      "Sponsor                                      object\n",
      "Server Name                                  object\n",
      "Timestamp           datetime64[ns, Europe/Helsinki]\n",
      "Distance                                    float64\n",
      "Ping                                        float64\n",
      "Download                                    float64\n",
      "Upload                                      float64\n",
      "IP Address                                   object\n",
      "meas_hour                                     int64\n",
      "meas_day_of_week                              int64\n",
      "meas_month                                    int64\n",
      "meas_is_weekend                                bool\n",
      "dtype: object\n"
     ]
    }
   ],
   "source": [
    "# Tarkistetaa datatyypit:\n",
    "print(df.dtypes)"
   ]
  },
  {
   "cell_type": "code",
   "execution_count": 38,
   "metadata": {},
   "outputs": [
    {
     "data": {
      "text/plain": [
       "0        3\n",
       "1        3\n",
       "2        3\n",
       "3        3\n",
       "4        3\n",
       "        ..\n",
       "27675    2\n",
       "27676    2\n",
       "27677    2\n",
       "27678    2\n",
       "27679    2\n",
       "Name: meas_month, Length: 27680, dtype: category\n",
       "Categories (12, int64): [0, 1, 2, 3, ..., 8, 9, 10, 11]"
      ]
     },
     "execution_count": 38,
     "metadata": {},
     "output_type": "execute_result"
    }
   ],
   "source": [
    "# Treat these columns as label/ordinal encoded values\n",
    "df_filtered['meas_hour'].astype('category')\n",
    "df_filtered['meas_day_of_week'].astype('category')\n",
    "df_filtered['meas_month'].astype('category')"
   ]
  },
  {
   "cell_type": "code",
   "execution_count": 39,
   "metadata": {},
   "outputs": [
    {
     "data": {
      "text/plain": [
       "Server ID                                     int64\n",
       "Sponsor                                      object\n",
       "Server Name                                  object\n",
       "Timestamp           datetime64[ns, Europe/Helsinki]\n",
       "Distance                                    float64\n",
       "Ping                                        float64\n",
       "Download                                    float64\n",
       "Upload                                      float64\n",
       "IP Address                                   object\n",
       "meas_hour                                     int64\n",
       "meas_day_of_week                              int64\n",
       "meas_month                                    int64\n",
       "meas_is_weekend                                bool\n",
       "dtype: object"
      ]
     },
     "execution_count": 39,
     "metadata": {},
     "output_type": "execute_result"
    }
   ],
   "source": [
    "df_filtered.dtypes"
   ]
  },
  {
   "cell_type": "markdown",
   "metadata": {},
   "source": [
    "# Helper lists for labelling the plots\n",
    "label_month_list = ['Jan', 'Feb', 'Mar', 'Apr', 'May', 'Jun', 'Jul', 'Aug', 'Sep', 'Oct', 'Nov', 'Dec']\n",
    "label_day_list = ['Mon', 'Tue', 'Wed', 'Thu', 'Fri', 'Sat', 'Sun']\n",
    "meas_hour_list = ['0', '1', '2', '3', '4', '5', '6', '7', '8', '9','10', '11', '12', '13', '14', '15', '16',  '17', '18', '19', '20', '21', '22', '23']\n",
    "heatmap = down_means_by_hours_and_days.unstack()\n",
    "\n",
    "fig, ax = plt.subplots()\n",
    "#figsize=(15.0, 5.0)\n",
    "im = ax.imshow(heatmap, interpolation='nearest')\n",
    "#cmap = LinearSegmentedColormap\n",
    "\n",
    "df_filtered.plot(down_means_by_hours_and_days)\n",
    "# plt.colorbar(label='Download', fraction=xx, pad=xx)\n",
    "# data=df_filtered['Upload'].mean(), , colormap=cm.get_cmap(name='RdYlGn_r') \n",
    "\n",
    "ax.set_xticks(np.arange(24))\n",
    "ax.set_yticks(np.arange(7))\n",
    "ax.set_xticklabel(meas_hour_list)\n",
    "ax.set_yticklabel(label_day_list)\n",
    "ax.set_xlabel('Measurement hour')\n",
    "ax.set_ylabel('Weekday')                 \n",
    "#plt.tick_params(labelsize=12)\n",
    "plt.show()"
   ]
  },
  {
   "cell_type": "code",
   "execution_count": 40,
   "metadata": {},
   "outputs": [
    {
     "data": {
      "text/html": [
       "<div>\n",
       "<style scoped>\n",
       "    .dataframe tbody tr th:only-of-type {\n",
       "        vertical-align: middle;\n",
       "    }\n",
       "\n",
       "    .dataframe tbody tr th {\n",
       "        vertical-align: top;\n",
       "    }\n",
       "\n",
       "    .dataframe thead th {\n",
       "        text-align: right;\n",
       "    }\n",
       "</style>\n",
       "<table border=\"1\" class=\"dataframe\">\n",
       "  <thead>\n",
       "    <tr style=\"text-align: right;\">\n",
       "      <th></th>\n",
       "      <th>Server ID</th>\n",
       "      <th>Sponsor</th>\n",
       "      <th>Server Name</th>\n",
       "      <th>Timestamp</th>\n",
       "      <th>Distance</th>\n",
       "      <th>Ping</th>\n",
       "      <th>Download</th>\n",
       "      <th>Upload</th>\n",
       "      <th>IP Address</th>\n",
       "      <th>meas_hour</th>\n",
       "      <th>meas_day_of_week</th>\n",
       "      <th>meas_month</th>\n",
       "      <th>meas_is_weekend</th>\n",
       "    </tr>\n",
       "  </thead>\n",
       "  <tbody>\n",
       "    <tr>\n",
       "      <td>0</td>\n",
       "      <td>4113</td>\n",
       "      <td>AinaCom Oy</td>\n",
       "      <td>Hameenlinna</td>\n",
       "      <td>2019-04-27 17:42:34.795529+03:00</td>\n",
       "      <td>36.370597</td>\n",
       "      <td>31.108</td>\n",
       "      <td>1.093165e+07</td>\n",
       "      <td>2.298769e+07</td>\n",
       "      <td>109.240.230.177</td>\n",
       "      <td>17</td>\n",
       "      <td>5</td>\n",
       "      <td>3</td>\n",
       "      <td>True</td>\n",
       "    </tr>\n",
       "    <tr>\n",
       "      <td>1</td>\n",
       "      <td>4549</td>\n",
       "      <td>Elisa Oyj</td>\n",
       "      <td>Helsinki</td>\n",
       "      <td>2019-04-27 17:51:03.157093+03:00</td>\n",
       "      <td>130.306322</td>\n",
       "      <td>26.457</td>\n",
       "      <td>1.277750e+07</td>\n",
       "      <td>2.232226e+07</td>\n",
       "      <td>109.240.230.177</td>\n",
       "      <td>17</td>\n",
       "      <td>5</td>\n",
       "      <td>3</td>\n",
       "      <td>True</td>\n",
       "    </tr>\n",
       "    <tr>\n",
       "      <td>2</td>\n",
       "      <td>4549</td>\n",
       "      <td>Elisa Oyj</td>\n",
       "      <td>Helsinki</td>\n",
       "      <td>2019-04-27 18:00:03.191761+03:00</td>\n",
       "      <td>130.306322</td>\n",
       "      <td>27.276</td>\n",
       "      <td>1.254651e+07</td>\n",
       "      <td>2.550727e+07</td>\n",
       "      <td>109.240.230.177</td>\n",
       "      <td>18</td>\n",
       "      <td>5</td>\n",
       "      <td>3</td>\n",
       "      <td>True</td>\n",
       "    </tr>\n",
       "    <tr>\n",
       "      <td>3</td>\n",
       "      <td>4113</td>\n",
       "      <td>AinaCom Oy</td>\n",
       "      <td>Hameenlinna</td>\n",
       "      <td>2019-04-27 18:17:02.991595+03:00</td>\n",
       "      <td>36.370597</td>\n",
       "      <td>29.571</td>\n",
       "      <td>1.381782e+07</td>\n",
       "      <td>2.603921e+07</td>\n",
       "      <td>109.240.230.177</td>\n",
       "      <td>18</td>\n",
       "      <td>5</td>\n",
       "      <td>3</td>\n",
       "      <td>True</td>\n",
       "    </tr>\n",
       "    <tr>\n",
       "      <td>4</td>\n",
       "      <td>4549</td>\n",
       "      <td>Elisa Oyj</td>\n",
       "      <td>Helsinki</td>\n",
       "      <td>2019-04-27 18:34:03.359461+03:00</td>\n",
       "      <td>130.306322</td>\n",
       "      <td>29.533</td>\n",
       "      <td>8.309932e+06</td>\n",
       "      <td>2.568938e+07</td>\n",
       "      <td>109.240.230.177</td>\n",
       "      <td>18</td>\n",
       "      <td>5</td>\n",
       "      <td>3</td>\n",
       "      <td>True</td>\n",
       "    </tr>\n",
       "    <tr>\n",
       "      <td>...</td>\n",
       "      <td>...</td>\n",
       "      <td>...</td>\n",
       "      <td>...</td>\n",
       "      <td>...</td>\n",
       "      <td>...</td>\n",
       "      <td>...</td>\n",
       "      <td>...</td>\n",
       "      <td>...</td>\n",
       "      <td>...</td>\n",
       "      <td>...</td>\n",
       "      <td>...</td>\n",
       "      <td>...</td>\n",
       "      <td>...</td>\n",
       "    </tr>\n",
       "    <tr>\n",
       "      <td>27675</td>\n",
       "      <td>3038</td>\n",
       "      <td>Seltimil Oy</td>\n",
       "      <td>Jyvaskyla</td>\n",
       "      <td>2020-03-28 13:10:03.204795+02:00</td>\n",
       "      <td>1.068003</td>\n",
       "      <td>28.278</td>\n",
       "      <td>2.117625e+07</td>\n",
       "      <td>2.696977e+07</td>\n",
       "      <td>109.240.192.231</td>\n",
       "      <td>13</td>\n",
       "      <td>5</td>\n",
       "      <td>2</td>\n",
       "      <td>True</td>\n",
       "    </tr>\n",
       "    <tr>\n",
       "      <td>27676</td>\n",
       "      <td>3038</td>\n",
       "      <td>Seltimil Oy</td>\n",
       "      <td>Jyvaskyla</td>\n",
       "      <td>2020-03-28 13:40:02.730371+02:00</td>\n",
       "      <td>1.068003</td>\n",
       "      <td>24.124</td>\n",
       "      <td>1.482492e+07</td>\n",
       "      <td>2.148748e+07</td>\n",
       "      <td>109.240.192.231</td>\n",
       "      <td>13</td>\n",
       "      <td>5</td>\n",
       "      <td>2</td>\n",
       "      <td>True</td>\n",
       "    </tr>\n",
       "    <tr>\n",
       "      <td>27677</td>\n",
       "      <td>3038</td>\n",
       "      <td>Seltimil Oy</td>\n",
       "      <td>Jyvaskyla</td>\n",
       "      <td>2020-03-28 14:10:02.987938+02:00</td>\n",
       "      <td>1.068003</td>\n",
       "      <td>28.535</td>\n",
       "      <td>1.372991e+07</td>\n",
       "      <td>2.145983e+07</td>\n",
       "      <td>109.240.192.231</td>\n",
       "      <td>14</td>\n",
       "      <td>5</td>\n",
       "      <td>2</td>\n",
       "      <td>True</td>\n",
       "    </tr>\n",
       "    <tr>\n",
       "      <td>27678</td>\n",
       "      <td>3038</td>\n",
       "      <td>Seltimil Oy</td>\n",
       "      <td>Jyvaskyla</td>\n",
       "      <td>2020-03-28 14:40:03.218262+02:00</td>\n",
       "      <td>1.068003</td>\n",
       "      <td>28.403</td>\n",
       "      <td>1.904317e+07</td>\n",
       "      <td>2.177915e+07</td>\n",
       "      <td>109.240.192.231</td>\n",
       "      <td>14</td>\n",
       "      <td>5</td>\n",
       "      <td>2</td>\n",
       "      <td>True</td>\n",
       "    </tr>\n",
       "    <tr>\n",
       "      <td>27679</td>\n",
       "      <td>3038</td>\n",
       "      <td>Seltimil Oy</td>\n",
       "      <td>Jyvaskyla</td>\n",
       "      <td>2020-03-28 15:10:02.868146+02:00</td>\n",
       "      <td>1.068003</td>\n",
       "      <td>27.745</td>\n",
       "      <td>1.579473e+07</td>\n",
       "      <td>3.232823e+06</td>\n",
       "      <td>109.240.192.231</td>\n",
       "      <td>15</td>\n",
       "      <td>5</td>\n",
       "      <td>2</td>\n",
       "      <td>True</td>\n",
       "    </tr>\n",
       "  </tbody>\n",
       "</table>\n",
       "<p>27680 rows × 13 columns</p>\n",
       "</div>"
      ],
      "text/plain": [
       "       Server ID      Sponsor  Server Name                        Timestamp  \\\n",
       "0           4113   AinaCom Oy  Hameenlinna 2019-04-27 17:42:34.795529+03:00   \n",
       "1           4549    Elisa Oyj     Helsinki 2019-04-27 17:51:03.157093+03:00   \n",
       "2           4549    Elisa Oyj     Helsinki 2019-04-27 18:00:03.191761+03:00   \n",
       "3           4113   AinaCom Oy  Hameenlinna 2019-04-27 18:17:02.991595+03:00   \n",
       "4           4549    Elisa Oyj     Helsinki 2019-04-27 18:34:03.359461+03:00   \n",
       "...          ...          ...          ...                              ...   \n",
       "27675       3038  Seltimil Oy    Jyvaskyla 2020-03-28 13:10:03.204795+02:00   \n",
       "27676       3038  Seltimil Oy    Jyvaskyla 2020-03-28 13:40:02.730371+02:00   \n",
       "27677       3038  Seltimil Oy    Jyvaskyla 2020-03-28 14:10:02.987938+02:00   \n",
       "27678       3038  Seltimil Oy    Jyvaskyla 2020-03-28 14:40:03.218262+02:00   \n",
       "27679       3038  Seltimil Oy    Jyvaskyla 2020-03-28 15:10:02.868146+02:00   \n",
       "\n",
       "         Distance    Ping      Download        Upload       IP Address  \\\n",
       "0       36.370597  31.108  1.093165e+07  2.298769e+07  109.240.230.177   \n",
       "1      130.306322  26.457  1.277750e+07  2.232226e+07  109.240.230.177   \n",
       "2      130.306322  27.276  1.254651e+07  2.550727e+07  109.240.230.177   \n",
       "3       36.370597  29.571  1.381782e+07  2.603921e+07  109.240.230.177   \n",
       "4      130.306322  29.533  8.309932e+06  2.568938e+07  109.240.230.177   \n",
       "...           ...     ...           ...           ...              ...   \n",
       "27675    1.068003  28.278  2.117625e+07  2.696977e+07  109.240.192.231   \n",
       "27676    1.068003  24.124  1.482492e+07  2.148748e+07  109.240.192.231   \n",
       "27677    1.068003  28.535  1.372991e+07  2.145983e+07  109.240.192.231   \n",
       "27678    1.068003  28.403  1.904317e+07  2.177915e+07  109.240.192.231   \n",
       "27679    1.068003  27.745  1.579473e+07  3.232823e+06  109.240.192.231   \n",
       "\n",
       "       meas_hour  meas_day_of_week  meas_month  meas_is_weekend  \n",
       "0             17                 5           3             True  \n",
       "1             17                 5           3             True  \n",
       "2             18                 5           3             True  \n",
       "3             18                 5           3             True  \n",
       "4             18                 5           3             True  \n",
       "...          ...               ...         ...              ...  \n",
       "27675         13                 5           2             True  \n",
       "27676         13                 5           2             True  \n",
       "27677         14                 5           2             True  \n",
       "27678         14                 5           2             True  \n",
       "27679         15                 5           2             True  \n",
       "\n",
       "[27680 rows x 13 columns]"
      ]
     },
     "execution_count": 40,
     "metadata": {},
     "output_type": "execute_result"
    }
   ],
   "source": [
    "df_filtered"
   ]
  },
  {
   "cell_type": "markdown",
   "metadata": {},
   "source": [
    "import numpy as np\n",
    "import matplotlib\n",
    "import matplotlib.pyplot as plt\n",
    "# sphinx_gallery_thumbnail_number = 2\n",
    "\n",
    "days = [\"Monday\", \"Tuesday\", \"Wednesday\", \"Thursday\",\n",
    "              \"Friday\", \"Saturday\", \"Sunday\"]\n",
    "months = [\"Jan\", \"Feb\", \"Mar\", \"Apr\", \"May\", \"Jun\", \"Jul\", \"Aug\", \"Sep\",\n",
    "           \"Oct\", \"Nov\", \"Dec\"]\n",
    "\n",
    "harvest = np.array([[0.8, 2.4, 2.5, 3.9, 0.0, 4.0, 2.4, 2.5, 3.9, 0.0, 4.0, 0.2],\n",
    "                    [2.4, 0.0, 4.0, 1.0, 2.7, 0.0, 1.7, 0.6, 2.6, 2.2, 6.2, 0.9],\n",
    "                    [1.1, 2.4, 0.8, 4.0, 0.5, 1.2, 5.1, 0.9, 4.3, 1.9, 4.4, 1.0],\n",
    "                    [0.6, 0.0, 0.3, 2.4, 2.5, 3.9, 0.0, 4.0, 0.0, 3.1, 0.0, 0.3],\n",
    "                    [0.7, 1.7, 4.0, 0.5, 1.2, 5.1, 0.9, 0.6, 2.6, 2.2, 6.0, 0.0],\n",
    "                    [1.3, 1.2, 5.3, 4.0, 0.5, 1.2, 5.1, 0.9, 0.0, 3.2, 3.2, 5.1],\n",
    "                    [0.1, 2.0, 0.0, 1.4, 1.7, 0.6, 2.6, 2.2, 6.2, 0.0, 1.9, 6.3]])\n",
    "\n",
    "\n",
    "fig, ax = plt.subplots()\n",
    "im = ax.imshow(harvest)\n",
    "\n",
    "cbarlabel = \"Arvo väritulkki\"\n",
    "# Create colorbar\n",
    "# colormap=cm.get_cmap(name='YlOrRd')\n",
    "cbar = ax.figure.colorbar(im, ax=ax, orientation=\"horizontal\")\n",
    "cbar.ax.set_xlabel(cbarlabel, rotation=0, va=\"bottom\")\n",
    "\n",
    "# We want to show all ticks...\n",
    "# ax.set_xticks(np.arange(len(months)))\n",
    "# ax.set_yticks(np.arange(len(days)))\n",
    "ax.set_xticks(np.arange(12))\n",
    "ax.set_yticks(np.arange(8))\n",
    "\n",
    "# ... and label them with the respective list entries\n",
    "ax.set_xticklabels(months)\n",
    "ax.set_yticklabels(days)\n",
    "\n",
    "# Rotate the tick labels and set their alignment.\n",
    "plt.setp(ax.get_xticklabels(), rotation=45, ha=\"right\",\n",
    "         rotation_mode=\"anchor\")\n",
    "\n",
    "# Loop over data dimensions and create text annotations.\n",
    "for i in range(len(days)):\n",
    "    for j in range(len(months)):\n",
    "        text = ax.text(j, i, harvest[i, j],\n",
    "                       ha=\"center\", va=\"center\", color=\"w\")\n",
    "\n",
    "ax.set_title(\"Taulukosta luvut (arvo/ajankohtana)\")\n",
    "# fig.tight_layout()\n",
    "plt.show()\n"
   ]
  },
  {
   "cell_type": "markdown",
   "metadata": {},
   "source": [
    "Kokeillaan tulostaa maaliskuun 1. viikon ajalta Upload ja Download\n"
   ]
  },
  {
   "cell_type": "code",
   "execution_count": 41,
   "metadata": {},
   "outputs": [
    {
     "data": {
      "image/png": "[encoded data removed]",
      "text/plain": [
       "<Figure size 1080x360 with 1 Axes>"
      ]
     },
     "metadata": {
      "needs_background": "light"
     },
     "output_type": "display_data"
    }
   ],
   "source": [
    "mask = (df['Timestamp'] >= '2020-03-02') & (df['Timestamp'] < '2020-03-09')\n",
    "df_masked = df.loc[mask]\n",
    "ts = df_masked['Timestamp']\n",
    "u = df_masked['Upload']\n",
    "d = df_masked['Download']\n",
    "plt.rcParams['figure.figsize'] = (15,5)\n",
    "plt.plot(ts, u, 'r', ts, d, 'b')\n",
    "plt.xlabel('Ajankohta')\n",
    "plt.ylabel('Siirtonopeus eli Upload ja Download')\n",
    "plt.show()"
   ]
  },
  {
   "cell_type": "code",
   "execution_count": 42,
   "metadata": {},
   "outputs": [
    {
     "data": {
      "image/png": "[encoded data removed]",
      "text/plain": [
       "<Figure size 1080x360 with 1 Axes>"
      ]
     },
     "metadata": {
      "needs_background": "light"
     },
     "output_type": "display_data"
    }
   ],
   "source": [
    "mask = (df['Timestamp'] >= '2019-05-20') & (df['Timestamp'] < '2019-05-27')\n",
    "df_masked2 = df.loc[mask]\n",
    "ts = df_masked2['Timestamp']\n",
    "u = df_masked2['Upload']\n",
    "d = df_masked2['Download']\n",
    "plt.rcParams['figure.figsize'] = (15,5)\n",
    "plt.plot(ts, u, 'r', ts, d, 'b')\n",
    "plt.xlabel('Ajankohta')\n",
    "plt.ylabel('Siirtonopeus eli Upload ja Download')\n",
    "plt.show()"
   ]
  },
  {
   "cell_type": "code",
   "execution_count": 43,
   "metadata": {},
   "outputs": [
    {
     "data": {
      "image/png": "[encoded data removed]",
      "text/plain": [
       "<Figure size 1080x360 with 1 Axes>"
      ]
     },
     "metadata": {
      "needs_background": "light"
     },
     "output_type": "display_data"
    }
   ],
   "source": [
    "mask = (df['Timestamp'] >= '2019-07-20') & (df['Timestamp'] < '2019-07-27')\n",
    "df_masked2 = df.loc[mask]\n",
    "ts = df_masked2['Timestamp']\n",
    "u = df_masked2['Upload']\n",
    "d = df_masked2['Download']\n",
    "plt.rcParams['figure.figsize'] = (15,5)\n",
    "plt.plot(ts, u, 'r', ts, d, 'b')\n",
    "plt.xlabel('Ajankohta')\n",
    "plt.ylabel('Siirtonopeus eli Upload ja Download')\n",
    "plt.show()"
   ]
  },
  {
   "cell_type": "code",
   "execution_count": 44,
   "metadata": {},
   "outputs": [
    {
     "data": {
      "image/png": "[encoded data removed]",
      "text/plain": [
       "<Figure size 1080x360 with 1 Axes>"
      ]
     },
     "metadata": {
      "needs_background": "light"
     },
     "output_type": "display_data"
    }
   ],
   "source": [
    "mask = (df['Timestamp'] >= '2019-11-16') & (df['Timestamp'] < '2019-11-23')\n",
    "df_masked2 = df.loc[mask]\n",
    "ts = df_masked2['Timestamp']\n",
    "u = df_masked2['Upload']\n",
    "d = df_masked2['Download']\n",
    "plt.rcParams['figure.figsize'] = (15,5)\n",
    "plt.plot(ts, u, 'r', ts, d, 'b')\n",
    "plt.xlabel('Ajankohta')\n",
    "plt.ylabel('Siirtonopeus eli Upload ja Download')\n",
    "plt.show()"
   ]
  },
  {
   "cell_type": "code",
   "execution_count": 57,
   "metadata": {},
   "outputs": [
    {
     "data": {
      "image/png": "[encoded data removed]",
      "text/plain": [
       "<Figure size 1152x360 with 1 Axes>"
      ]
     },
     "metadata": {
      "needs_background": "light"
     },
     "output_type": "display_data"
    }
   ],
   "source": [
    "# Tulostetaan Download koko datasta ajanfunktiona\n",
    "ts = df['Timestamp']\n",
    "#u = df_masked2['Upload']\n",
    "d = df['Download']\n",
    "plt.rcParams['figure.figsize'] = (16,5)\n",
    "plt.plot(ts, d, 'b')\n",
    "plt.annotate('Lomalla, datasiirto katkaistu', xy=('2019-6-26', 5e7), xytext=('2019-7-1',8.7e7),\n",
    "             arrowprops=dict(facecolor='purple', shrink=0.05))\n",
    "plt.annotate('Lomalla datasiirto katkaistu', xy=('2019-12-25', 5e7), xytext=('2020-1-1',8e7),\n",
    "             arrowprops=dict(facecolor='purple', shrink=0.05))\n",
    "plt.xlabel('Ajankohta')\n",
    "plt.ylabel('Siirtonopeus Download')\n",
    "plt.show()"
   ]
  },
  {
   "cell_type": "code",
   "execution_count": 46,
   "metadata": {},
   "outputs": [
    {
     "data": {
      "image/png": "[encoded data removed]",
      "text/plain": [
       "<Figure size 1152x360 with 1 Axes>"
      ]
     },
     "metadata": {
      "needs_background": "light"
     },
     "output_type": "display_data"
    }
   ],
   "source": [
    "#mask = (df['Timestamp'] >= '2019-11-16') & (df['Timestamp'] < '2019-11-23')\n",
    "# df_masked2 = df.loc[mask]\n",
    "ts = df['Timestamp']\n",
    "u = df['Upload']\n",
    "#d = df['Download']\n",
    "plt.rcParams['figure.figsize'] = (16,5)\n",
    "plt.plot(ts, u, 'r')\n",
    "plt.xlabel('Ajankohta')\n",
    "plt.ylabel('Siirtonopeus Upload')\n",
    "plt.show()"
   ]
  },
  {
   "cell_type": "code",
   "execution_count": 47,
   "metadata": {},
   "outputs": [
    {
     "data": {
      "image/png": "[encoded data removed]",
      "text/plain": [
       "<Figure size 1152x360 with 1 Axes>"
      ]
     },
     "metadata": {
      "needs_background": "light"
     },
     "output_type": "display_data"
    }
   ],
   "source": [
    "mask = (df['Timestamp'] >= '2019-09-23') & (df['Timestamp'] < '2019-10-07')\n",
    "df_masked2 = df.loc[mask]\n",
    "ts = df_masked2['Timestamp']\n",
    "u = df_masked2['Upload']\n",
    "d = df_masked2['Download']\n",
    "plt.rcParams['figure.figsize'] = (16,5)\n",
    "plt.plot(ts, u, 'r', ts, d, 'b')\n",
    "plt.xlabel('Ajankohta')\n",
    "plt.ylabel('Siirtonopeus eli Upload ja Download')\n",
    "plt.show()"
   ]
  },
  {
   "cell_type": "code",
   "execution_count": null,
   "metadata": {},
   "outputs": [],
   "source": []
  },
  {
   "cell_type": "code",
   "execution_count": 48,
   "metadata": {},
   "outputs": [],
   "source": [
    "dserver_u = df[['Server ID', 'Timestamp', 'Upload']]"
   ]
  },
  {
   "cell_type": "code",
   "execution_count": 49,
   "metadata": {},
   "outputs": [
    {
     "data": {
      "text/html": [
       "<div>\n",
       "<style scoped>\n",
       "    .dataframe tbody tr th:only-of-type {\n",
       "        vertical-align: middle;\n",
       "    }\n",
       "\n",
       "    .dataframe tbody tr th {\n",
       "        vertical-align: top;\n",
       "    }\n",
       "\n",
       "    .dataframe thead th {\n",
       "        text-align: right;\n",
       "    }\n",
       "</style>\n",
       "<table border=\"1\" class=\"dataframe\">\n",
       "  <thead>\n",
       "    <tr style=\"text-align: right;\">\n",
       "      <th></th>\n",
       "      <th>Server ID</th>\n",
       "      <th>Timestamp</th>\n",
       "      <th>Upload</th>\n",
       "    </tr>\n",
       "  </thead>\n",
       "  <tbody>\n",
       "    <tr>\n",
       "      <td>27675</td>\n",
       "      <td>3038</td>\n",
       "      <td>2020-03-28 13:10:03.204795+02:00</td>\n",
       "      <td>2.696977e+07</td>\n",
       "    </tr>\n",
       "    <tr>\n",
       "      <td>27676</td>\n",
       "      <td>3038</td>\n",
       "      <td>2020-03-28 13:40:02.730371+02:00</td>\n",
       "      <td>2.148748e+07</td>\n",
       "    </tr>\n",
       "    <tr>\n",
       "      <td>27677</td>\n",
       "      <td>3038</td>\n",
       "      <td>2020-03-28 14:10:02.987938+02:00</td>\n",
       "      <td>2.145983e+07</td>\n",
       "    </tr>\n",
       "    <tr>\n",
       "      <td>27678</td>\n",
       "      <td>3038</td>\n",
       "      <td>2020-03-28 14:40:03.218262+02:00</td>\n",
       "      <td>2.177915e+07</td>\n",
       "    </tr>\n",
       "    <tr>\n",
       "      <td>27679</td>\n",
       "      <td>3038</td>\n",
       "      <td>2020-03-28 15:10:02.868146+02:00</td>\n",
       "      <td>3.232823e+06</td>\n",
       "    </tr>\n",
       "  </tbody>\n",
       "</table>\n",
       "</div>"
      ],
      "text/plain": [
       "       Server ID                        Timestamp        Upload\n",
       "27675       3038 2020-03-28 13:10:03.204795+02:00  2.696977e+07\n",
       "27676       3038 2020-03-28 13:40:02.730371+02:00  2.148748e+07\n",
       "27677       3038 2020-03-28 14:10:02.987938+02:00  2.145983e+07\n",
       "27678       3038 2020-03-28 14:40:03.218262+02:00  2.177915e+07\n",
       "27679       3038 2020-03-28 15:10:02.868146+02:00  3.232823e+06"
      ]
     },
     "execution_count": 49,
     "metadata": {},
     "output_type": "execute_result"
    }
   ],
   "source": [
    "dserver_u.tail()"
   ]
  },
  {
   "cell_type": "code",
   "execution_count": 58,
   "metadata": {},
   "outputs": [
    {
     "ename": "ValueError",
     "evalue": "x and y must be the same size",
     "output_type": "error",
     "traceback": [
      "\u001b[0;31m---------------------------------------------------------------------------\u001b[0m",
      "\u001b[0;31mValueError\u001b[0m                                Traceback (most recent call last)",
      "\u001b[0;32m<ipython-input-58-99c5fb1706bc>\u001b[0m in \u001b[0;36m<module>\u001b[0;34m\u001b[0m\n\u001b[1;32m      2\u001b[0m \u001b[0mu_mean\u001b[0m \u001b[0;34m=\u001b[0m \u001b[0mdserver_u\u001b[0m\u001b[0;34m[\u001b[0m\u001b[0;34m'Upload'\u001b[0m\u001b[0;34m]\u001b[0m\u001b[0;34m.\u001b[0m\u001b[0mmean\u001b[0m\u001b[0;34m(\u001b[0m\u001b[0;34m)\u001b[0m\u001b[0;34m\u001b[0m\u001b[0;34m\u001b[0m\u001b[0m\n\u001b[1;32m      3\u001b[0m \u001b[0;31m# plt.rcParams['figure.figsize'] = (15,5)\u001b[0m\u001b[0;34m\u001b[0m\u001b[0;34m\u001b[0m\u001b[0;34m\u001b[0m\u001b[0m\n\u001b[0;32m----> 4\u001b[0;31m \u001b[0mplt\u001b[0m\u001b[0;34m.\u001b[0m\u001b[0mscatter\u001b[0m\u001b[0;34m(\u001b[0m\u001b[0mserver\u001b[0m\u001b[0;34m,\u001b[0m \u001b[0mu_mean\u001b[0m\u001b[0;34m,\u001b[0m \u001b[0;34m'r'\u001b[0m\u001b[0;34m)\u001b[0m\u001b[0;34m\u001b[0m\u001b[0;34m\u001b[0m\u001b[0m\n\u001b[0m\u001b[1;32m      5\u001b[0m \u001b[0mplt\u001b[0m\u001b[0;34m.\u001b[0m\u001b[0mxlabel\u001b[0m\u001b[0;34m(\u001b[0m\u001b[0;34m'Server_ID'\u001b[0m\u001b[0;34m)\u001b[0m\u001b[0;34m\u001b[0m\u001b[0;34m\u001b[0m\u001b[0m\n\u001b[1;32m      6\u001b[0m \u001b[0mplt\u001b[0m\u001b[0;34m.\u001b[0m\u001b[0mylabel\u001b[0m\u001b[0;34m(\u001b[0m\u001b[0;34m'Keskiarvo Upload'\u001b[0m\u001b[0;34m)\u001b[0m\u001b[0;34m\u001b[0m\u001b[0;34m\u001b[0m\u001b[0m\n",
      "\u001b[0;32m~/opt/anaconda3/lib/python3.7/site-packages/matplotlib/pyplot.py\u001b[0m in \u001b[0;36mscatter\u001b[0;34m(x, y, s, c, marker, cmap, norm, vmin, vmax, alpha, linewidths, verts, edgecolors, plotnonfinite, data, **kwargs)\u001b[0m\n\u001b[1;32m   2845\u001b[0m         \u001b[0mverts\u001b[0m\u001b[0;34m=\u001b[0m\u001b[0mverts\u001b[0m\u001b[0;34m,\u001b[0m \u001b[0medgecolors\u001b[0m\u001b[0;34m=\u001b[0m\u001b[0medgecolors\u001b[0m\u001b[0;34m,\u001b[0m\u001b[0;34m\u001b[0m\u001b[0;34m\u001b[0m\u001b[0m\n\u001b[1;32m   2846\u001b[0m         plotnonfinite=plotnonfinite, **({\"data\": data} if data is not\n\u001b[0;32m-> 2847\u001b[0;31m         None else {}), **kwargs)\n\u001b[0m\u001b[1;32m   2848\u001b[0m     \u001b[0msci\u001b[0m\u001b[0;34m(\u001b[0m\u001b[0m__ret\u001b[0m\u001b[0;34m)\u001b[0m\u001b[0;34m\u001b[0m\u001b[0;34m\u001b[0m\u001b[0m\n\u001b[1;32m   2849\u001b[0m     \u001b[0;32mreturn\u001b[0m \u001b[0m__ret\u001b[0m\u001b[0;34m\u001b[0m\u001b[0;34m\u001b[0m\u001b[0m\n",
      "\u001b[0;32m~/opt/anaconda3/lib/python3.7/site-packages/matplotlib/__init__.py\u001b[0m in \u001b[0;36minner\u001b[0;34m(ax, data, *args, **kwargs)\u001b[0m\n\u001b[1;32m   1599\u001b[0m     \u001b[0;32mdef\u001b[0m \u001b[0minner\u001b[0m\u001b[0;34m(\u001b[0m\u001b[0max\u001b[0m\u001b[0;34m,\u001b[0m \u001b[0;34m*\u001b[0m\u001b[0margs\u001b[0m\u001b[0;34m,\u001b[0m \u001b[0mdata\u001b[0m\u001b[0;34m=\u001b[0m\u001b[0;32mNone\u001b[0m\u001b[0;34m,\u001b[0m \u001b[0;34m**\u001b[0m\u001b[0mkwargs\u001b[0m\u001b[0;34m)\u001b[0m\u001b[0;34m:\u001b[0m\u001b[0;34m\u001b[0m\u001b[0;34m\u001b[0m\u001b[0m\n\u001b[1;32m   1600\u001b[0m         \u001b[0;32mif\u001b[0m \u001b[0mdata\u001b[0m \u001b[0;32mis\u001b[0m \u001b[0;32mNone\u001b[0m\u001b[0;34m:\u001b[0m\u001b[0;34m\u001b[0m\u001b[0;34m\u001b[0m\u001b[0m\n\u001b[0;32m-> 1601\u001b[0;31m             \u001b[0;32mreturn\u001b[0m \u001b[0mfunc\u001b[0m\u001b[0;34m(\u001b[0m\u001b[0max\u001b[0m\u001b[0;34m,\u001b[0m \u001b[0;34m*\u001b[0m\u001b[0mmap\u001b[0m\u001b[0;34m(\u001b[0m\u001b[0msanitize_sequence\u001b[0m\u001b[0;34m,\u001b[0m \u001b[0margs\u001b[0m\u001b[0;34m)\u001b[0m\u001b[0;34m,\u001b[0m \u001b[0;34m**\u001b[0m\u001b[0mkwargs\u001b[0m\u001b[0;34m)\u001b[0m\u001b[0;34m\u001b[0m\u001b[0;34m\u001b[0m\u001b[0m\n\u001b[0m\u001b[1;32m   1602\u001b[0m \u001b[0;34m\u001b[0m\u001b[0m\n\u001b[1;32m   1603\u001b[0m         \u001b[0mbound\u001b[0m \u001b[0;34m=\u001b[0m \u001b[0mnew_sig\u001b[0m\u001b[0;34m.\u001b[0m\u001b[0mbind\u001b[0m\u001b[0;34m(\u001b[0m\u001b[0max\u001b[0m\u001b[0;34m,\u001b[0m \u001b[0;34m*\u001b[0m\u001b[0margs\u001b[0m\u001b[0;34m,\u001b[0m \u001b[0;34m**\u001b[0m\u001b[0mkwargs\u001b[0m\u001b[0;34m)\u001b[0m\u001b[0;34m\u001b[0m\u001b[0;34m\u001b[0m\u001b[0m\n",
      "\u001b[0;32m~/opt/anaconda3/lib/python3.7/site-packages/matplotlib/axes/_axes.py\u001b[0m in \u001b[0;36mscatter\u001b[0;34m(self, x, y, s, c, marker, cmap, norm, vmin, vmax, alpha, linewidths, verts, edgecolors, plotnonfinite, **kwargs)\u001b[0m\n\u001b[1;32m   4442\u001b[0m         \u001b[0my\u001b[0m \u001b[0;34m=\u001b[0m \u001b[0mnp\u001b[0m\u001b[0;34m.\u001b[0m\u001b[0mma\u001b[0m\u001b[0;34m.\u001b[0m\u001b[0mravel\u001b[0m\u001b[0;34m(\u001b[0m\u001b[0my\u001b[0m\u001b[0;34m)\u001b[0m\u001b[0;34m\u001b[0m\u001b[0;34m\u001b[0m\u001b[0m\n\u001b[1;32m   4443\u001b[0m         \u001b[0;32mif\u001b[0m \u001b[0mx\u001b[0m\u001b[0;34m.\u001b[0m\u001b[0msize\u001b[0m \u001b[0;34m!=\u001b[0m \u001b[0my\u001b[0m\u001b[0;34m.\u001b[0m\u001b[0msize\u001b[0m\u001b[0;34m:\u001b[0m\u001b[0;34m\u001b[0m\u001b[0;34m\u001b[0m\u001b[0m\n\u001b[0;32m-> 4444\u001b[0;31m             \u001b[0;32mraise\u001b[0m \u001b[0mValueError\u001b[0m\u001b[0;34m(\u001b[0m\u001b[0;34m\"x and y must be the same size\"\u001b[0m\u001b[0;34m)\u001b[0m\u001b[0;34m\u001b[0m\u001b[0;34m\u001b[0m\u001b[0m\n\u001b[0m\u001b[1;32m   4445\u001b[0m \u001b[0;34m\u001b[0m\u001b[0m\n\u001b[1;32m   4446\u001b[0m         \u001b[0;32mif\u001b[0m \u001b[0ms\u001b[0m \u001b[0;32mis\u001b[0m \u001b[0;32mNone\u001b[0m\u001b[0;34m:\u001b[0m\u001b[0;34m\u001b[0m\u001b[0;34m\u001b[0m\u001b[0m\n",
      "\u001b[0;31mValueError\u001b[0m: x and y must be the same size"
     ]
    },
    {
     "data": {
      "image/png": "[encoded data removed]",
      "text/plain": [
       "<Figure size 1152x360 with 1 Axes>"
      ]
     },
     "metadata": {
      "needs_background": "light"
     },
     "output_type": "display_data"
    }
   ],
   "source": [
    "server = dserver_u['Server ID']\n",
    "u_mean = dserver_u['Upload'].mean()\n",
    "# plt.rcParams['figure.figsize'] = (15,5)\n",
    "plt.scatter(server, u_mean, 'r')\n",
    "plt.xlabel('Server_ID')\n",
    "plt.ylabel('Keskiarvo Upload')\n",
    "plt.show()"
   ]
  },
  {
   "cell_type": "code",
   "execution_count": 59,
   "metadata": {},
   "outputs": [
    {
     "data": {
      "text/html": [
       "<div>\n",
       "<style scoped>\n",
       "    .dataframe tbody tr th:only-of-type {\n",
       "        vertical-align: middle;\n",
       "    }\n",
       "\n",
       "    .dataframe tbody tr th {\n",
       "        vertical-align: top;\n",
       "    }\n",
       "\n",
       "    .dataframe thead th {\n",
       "        text-align: right;\n",
       "    }\n",
       "</style>\n",
       "<table border=\"1\" class=\"dataframe\">\n",
       "  <thead>\n",
       "    <tr style=\"text-align: right;\">\n",
       "      <th></th>\n",
       "      <th>Server ID</th>\n",
       "      <th>Sponsor</th>\n",
       "      <th>Server Name</th>\n",
       "      <th>Timestamp</th>\n",
       "      <th>Distance</th>\n",
       "      <th>Ping</th>\n",
       "      <th>Download</th>\n",
       "      <th>Upload</th>\n",
       "      <th>IP Address</th>\n",
       "      <th>meas_hour</th>\n",
       "      <th>meas_day_of_week</th>\n",
       "      <th>meas_month</th>\n",
       "      <th>meas_is_weekend</th>\n",
       "    </tr>\n",
       "  </thead>\n",
       "  <tbody>\n",
       "    <tr>\n",
       "      <td>0</td>\n",
       "      <td>4113</td>\n",
       "      <td>AinaCom Oy</td>\n",
       "      <td>Hameenlinna</td>\n",
       "      <td>2019-04-27 17:42:34.795529+03:00</td>\n",
       "      <td>36.370597</td>\n",
       "      <td>31.108</td>\n",
       "      <td>1.093165e+07</td>\n",
       "      <td>2.298769e+07</td>\n",
       "      <td>109.240.230.177</td>\n",
       "      <td>17</td>\n",
       "      <td>5</td>\n",
       "      <td>3</td>\n",
       "      <td>True</td>\n",
       "    </tr>\n",
       "    <tr>\n",
       "      <td>1</td>\n",
       "      <td>4549</td>\n",
       "      <td>Elisa Oyj</td>\n",
       "      <td>Helsinki</td>\n",
       "      <td>2019-04-27 17:51:03.157093+03:00</td>\n",
       "      <td>130.306322</td>\n",
       "      <td>26.457</td>\n",
       "      <td>1.277750e+07</td>\n",
       "      <td>2.232226e+07</td>\n",
       "      <td>109.240.230.177</td>\n",
       "      <td>17</td>\n",
       "      <td>5</td>\n",
       "      <td>3</td>\n",
       "      <td>True</td>\n",
       "    </tr>\n",
       "    <tr>\n",
       "      <td>2</td>\n",
       "      <td>4549</td>\n",
       "      <td>Elisa Oyj</td>\n",
       "      <td>Helsinki</td>\n",
       "      <td>2019-04-27 18:00:03.191761+03:00</td>\n",
       "      <td>130.306322</td>\n",
       "      <td>27.276</td>\n",
       "      <td>1.254651e+07</td>\n",
       "      <td>2.550727e+07</td>\n",
       "      <td>109.240.230.177</td>\n",
       "      <td>18</td>\n",
       "      <td>5</td>\n",
       "      <td>3</td>\n",
       "      <td>True</td>\n",
       "    </tr>\n",
       "    <tr>\n",
       "      <td>3</td>\n",
       "      <td>4113</td>\n",
       "      <td>AinaCom Oy</td>\n",
       "      <td>Hameenlinna</td>\n",
       "      <td>2019-04-27 18:17:02.991595+03:00</td>\n",
       "      <td>36.370597</td>\n",
       "      <td>29.571</td>\n",
       "      <td>1.381782e+07</td>\n",
       "      <td>2.603921e+07</td>\n",
       "      <td>109.240.230.177</td>\n",
       "      <td>18</td>\n",
       "      <td>5</td>\n",
       "      <td>3</td>\n",
       "      <td>True</td>\n",
       "    </tr>\n",
       "    <tr>\n",
       "      <td>4</td>\n",
       "      <td>4549</td>\n",
       "      <td>Elisa Oyj</td>\n",
       "      <td>Helsinki</td>\n",
       "      <td>2019-04-27 18:34:03.359461+03:00</td>\n",
       "      <td>130.306322</td>\n",
       "      <td>29.533</td>\n",
       "      <td>8.309932e+06</td>\n",
       "      <td>2.568938e+07</td>\n",
       "      <td>109.240.230.177</td>\n",
       "      <td>18</td>\n",
       "      <td>5</td>\n",
       "      <td>3</td>\n",
       "      <td>True</td>\n",
       "    </tr>\n",
       "    <tr>\n",
       "      <td>...</td>\n",
       "      <td>...</td>\n",
       "      <td>...</td>\n",
       "      <td>...</td>\n",
       "      <td>...</td>\n",
       "      <td>...</td>\n",
       "      <td>...</td>\n",
       "      <td>...</td>\n",
       "      <td>...</td>\n",
       "      <td>...</td>\n",
       "      <td>...</td>\n",
       "      <td>...</td>\n",
       "      <td>...</td>\n",
       "      <td>...</td>\n",
       "    </tr>\n",
       "    <tr>\n",
       "      <td>27675</td>\n",
       "      <td>3038</td>\n",
       "      <td>Seltimil Oy</td>\n",
       "      <td>Jyvaskyla</td>\n",
       "      <td>2020-03-28 13:10:03.204795+02:00</td>\n",
       "      <td>1.068003</td>\n",
       "      <td>28.278</td>\n",
       "      <td>2.117625e+07</td>\n",
       "      <td>2.696977e+07</td>\n",
       "      <td>109.240.192.231</td>\n",
       "      <td>13</td>\n",
       "      <td>5</td>\n",
       "      <td>2</td>\n",
       "      <td>True</td>\n",
       "    </tr>\n",
       "    <tr>\n",
       "      <td>27676</td>\n",
       "      <td>3038</td>\n",
       "      <td>Seltimil Oy</td>\n",
       "      <td>Jyvaskyla</td>\n",
       "      <td>2020-03-28 13:40:02.730371+02:00</td>\n",
       "      <td>1.068003</td>\n",
       "      <td>24.124</td>\n",
       "      <td>1.482492e+07</td>\n",
       "      <td>2.148748e+07</td>\n",
       "      <td>109.240.192.231</td>\n",
       "      <td>13</td>\n",
       "      <td>5</td>\n",
       "      <td>2</td>\n",
       "      <td>True</td>\n",
       "    </tr>\n",
       "    <tr>\n",
       "      <td>27677</td>\n",
       "      <td>3038</td>\n",
       "      <td>Seltimil Oy</td>\n",
       "      <td>Jyvaskyla</td>\n",
       "      <td>2020-03-28 14:10:02.987938+02:00</td>\n",
       "      <td>1.068003</td>\n",
       "      <td>28.535</td>\n",
       "      <td>1.372991e+07</td>\n",
       "      <td>2.145983e+07</td>\n",
       "      <td>109.240.192.231</td>\n",
       "      <td>14</td>\n",
       "      <td>5</td>\n",
       "      <td>2</td>\n",
       "      <td>True</td>\n",
       "    </tr>\n",
       "    <tr>\n",
       "      <td>27678</td>\n",
       "      <td>3038</td>\n",
       "      <td>Seltimil Oy</td>\n",
       "      <td>Jyvaskyla</td>\n",
       "      <td>2020-03-28 14:40:03.218262+02:00</td>\n",
       "      <td>1.068003</td>\n",
       "      <td>28.403</td>\n",
       "      <td>1.904317e+07</td>\n",
       "      <td>2.177915e+07</td>\n",
       "      <td>109.240.192.231</td>\n",
       "      <td>14</td>\n",
       "      <td>5</td>\n",
       "      <td>2</td>\n",
       "      <td>True</td>\n",
       "    </tr>\n",
       "    <tr>\n",
       "      <td>27679</td>\n",
       "      <td>3038</td>\n",
       "      <td>Seltimil Oy</td>\n",
       "      <td>Jyvaskyla</td>\n",
       "      <td>2020-03-28 15:10:02.868146+02:00</td>\n",
       "      <td>1.068003</td>\n",
       "      <td>27.745</td>\n",
       "      <td>1.579473e+07</td>\n",
       "      <td>3.232823e+06</td>\n",
       "      <td>109.240.192.231</td>\n",
       "      <td>15</td>\n",
       "      <td>5</td>\n",
       "      <td>2</td>\n",
       "      <td>True</td>\n",
       "    </tr>\n",
       "  </tbody>\n",
       "</table>\n",
       "<p>27680 rows × 13 columns</p>\n",
       "</div>"
      ],
      "text/plain": [
       "       Server ID      Sponsor  Server Name                        Timestamp  \\\n",
       "0           4113   AinaCom Oy  Hameenlinna 2019-04-27 17:42:34.795529+03:00   \n",
       "1           4549    Elisa Oyj     Helsinki 2019-04-27 17:51:03.157093+03:00   \n",
       "2           4549    Elisa Oyj     Helsinki 2019-04-27 18:00:03.191761+03:00   \n",
       "3           4113   AinaCom Oy  Hameenlinna 2019-04-27 18:17:02.991595+03:00   \n",
       "4           4549    Elisa Oyj     Helsinki 2019-04-27 18:34:03.359461+03:00   \n",
       "...          ...          ...          ...                              ...   \n",
       "27675       3038  Seltimil Oy    Jyvaskyla 2020-03-28 13:10:03.204795+02:00   \n",
       "27676       3038  Seltimil Oy    Jyvaskyla 2020-03-28 13:40:02.730371+02:00   \n",
       "27677       3038  Seltimil Oy    Jyvaskyla 2020-03-28 14:10:02.987938+02:00   \n",
       "27678       3038  Seltimil Oy    Jyvaskyla 2020-03-28 14:40:03.218262+02:00   \n",
       "27679       3038  Seltimil Oy    Jyvaskyla 2020-03-28 15:10:02.868146+02:00   \n",
       "\n",
       "         Distance    Ping      Download        Upload       IP Address  \\\n",
       "0       36.370597  31.108  1.093165e+07  2.298769e+07  109.240.230.177   \n",
       "1      130.306322  26.457  1.277750e+07  2.232226e+07  109.240.230.177   \n",
       "2      130.306322  27.276  1.254651e+07  2.550727e+07  109.240.230.177   \n",
       "3       36.370597  29.571  1.381782e+07  2.603921e+07  109.240.230.177   \n",
       "4      130.306322  29.533  8.309932e+06  2.568938e+07  109.240.230.177   \n",
       "...           ...     ...           ...           ...              ...   \n",
       "27675    1.068003  28.278  2.117625e+07  2.696977e+07  109.240.192.231   \n",
       "27676    1.068003  24.124  1.482492e+07  2.148748e+07  109.240.192.231   \n",
       "27677    1.068003  28.535  1.372991e+07  2.145983e+07  109.240.192.231   \n",
       "27678    1.068003  28.403  1.904317e+07  2.177915e+07  109.240.192.231   \n",
       "27679    1.068003  27.745  1.579473e+07  3.232823e+06  109.240.192.231   \n",
       "\n",
       "       meas_hour  meas_day_of_week  meas_month  meas_is_weekend  \n",
       "0             17                 5           3             True  \n",
       "1             17                 5           3             True  \n",
       "2             18                 5           3             True  \n",
       "3             18                 5           3             True  \n",
       "4             18                 5           3             True  \n",
       "...          ...               ...         ...              ...  \n",
       "27675         13                 5           2             True  \n",
       "27676         13                 5           2             True  \n",
       "27677         14                 5           2             True  \n",
       "27678         14                 5           2             True  \n",
       "27679         15                 5           2             True  \n",
       "\n",
       "[27680 rows x 13 columns]"
      ]
     },
     "execution_count": 59,
     "metadata": {},
     "output_type": "execute_result"
    }
   ],
   "source": [
    "df"
   ]
  },
  {
   "cell_type": "markdown",
   "metadata": {},
   "source": [
    "Tutkaillaan vähän miten onnistuu laskea yksittäisen tunnin osalta up- tai downloadin keskiarvo "
   ]
  },
  {
   "cell_type": "code",
   "execution_count": 60,
   "metadata": {},
   "outputs": [
    {
     "data": {
      "text/plain": [
       "15312740.302912183"
      ]
     },
     "execution_count": 60,
     "metadata": {},
     "output_type": "execute_result"
    }
   ],
   "source": [
    "# kokeillaan laskea maanantain keskimääräinen Upload\n",
    "mask_ma = (df['meas_day_of_week'] == 0)\n",
    "df_masked_ma = df.loc[mask_ma]\n",
    "upl_ma = df_masked_ma['Upload'].mean()\n",
    "upl_ma"
   ]
  },
  {
   "cell_type": "code",
   "execution_count": 61,
   "metadata": {},
   "outputs": [
    {
     "data": {
      "text/plain": [
       "18569000.48039674"
      ]
     },
     "execution_count": 61,
     "metadata": {},
     "output_type": "execute_result"
    }
   ],
   "source": [
    "# kokeillaan laskea maanantain keskimääräinen Upload ja sitten vielä yksi yksittäinen tunti \n",
    "mask_ma = (df['meas_day_of_week'] == 0 ) & (df['meas_hour'] == 2 )\n",
    "df_masked_ma = df.loc[mask_ma]\n",
    "upl_ma2 = df_masked_ma['Upload'].mean()\n",
    "upl_ma2"
   ]
  },
  {
   "cell_type": "code",
   "execution_count": 62,
   "metadata": {},
   "outputs": [
    {
     "data": {
      "text/plain": [
       "16200638.107300324"
      ]
     },
     "execution_count": 62,
     "metadata": {},
     "output_type": "execute_result"
    }
   ],
   "source": [
    "# kokeillaan laskea lauantain keskimääräinen Upload\n",
    "mask_la = (df['meas_day_of_week'] == 5)\n",
    "df_masked_la = df.loc[mask_la]\n",
    "upl_la = df_masked_la['Upload'].mean()\n",
    "upl_la"
   ]
  },
  {
   "cell_type": "code",
   "execution_count": 63,
   "metadata": {},
   "outputs": [
    {
     "data": {
      "text/plain": [
       "19781477.993857335"
      ]
     },
     "execution_count": 63,
     "metadata": {},
     "output_type": "execute_result"
    }
   ],
   "source": [
    "# kokeillaan laskea lauantain keskimääräinen Upload ja sitten vielä yksi yksittäinen tunti\n",
    "mask_la3 = (df['meas_day_of_week'] == 5 ) & (df['meas_hour'] == 3 )\n",
    "df_masked_la3 = df.loc[mask_la3]\n",
    "upl_la3 = df_masked_la3['Upload'].mean()\n",
    "upl_la3"
   ]
  },
  {
   "cell_type": "code",
   "execution_count": 64,
   "metadata": {},
   "outputs": [
    {
     "data": {
      "text/plain": [
       "13448809.698185831"
      ]
     },
     "execution_count": 64,
     "metadata": {},
     "output_type": "execute_result"
    }
   ],
   "source": [
    "# kokeillaan laskea perjantain keskimääräinen Upload ilta 9-10\n",
    "mask_pe21 = (df['meas_day_of_week'] == 4 ) & (df['meas_hour'] == 21 )\n",
    "df_masked_pe21 = df.loc[mask_pe21]\n",
    "upl_pe21 = df_masked_pe21['Upload'].mean()\n",
    "upl_pe21"
   ]
  },
  {
   "cell_type": "code",
   "execution_count": 65,
   "metadata": {},
   "outputs": [
    {
     "data": {
      "text/plain": [
       "13846528.885854006"
      ]
     },
     "execution_count": 65,
     "metadata": {},
     "output_type": "execute_result"
    }
   ],
   "source": [
    "# kokeillaan laskea perjantain keskimääräinen Upload ilta 9-10\n",
    "mask_pe20 = (df['meas_day_of_week'] == 4 ) & (df['meas_hour'] == 20 )\n",
    "df_masked_pe20 = df.loc[mask_pe20]\n",
    "upl_pe20 = df_masked_pe20['Upload'].mean()\n",
    "upl_pe20"
   ]
  },
  {
   "cell_type": "code",
   "execution_count": 66,
   "metadata": {},
   "outputs": [
    {
     "data": {
      "text/plain": [
       "34603765.26092531"
      ]
     },
     "execution_count": 66,
     "metadata": {},
     "output_type": "execute_result"
    }
   ],
   "source": [
    "# kokeillaan vielä laskea sunnuntain keskimääräinen Download yöllä 3-4\n",
    "mask_su3 = (df['meas_day_of_week'] == 6 ) & (df['meas_hour'] == 3 )\n",
    "df_masked_su3 = df.loc[mask_su3]\n",
    "upl_su3 = df_masked_su3['Download'].mean()\n",
    "upl_su3"
   ]
  },
  {
   "cell_type": "code",
   "execution_count": 67,
   "metadata": {},
   "outputs": [
    {
     "data": {
      "text/plain": [
       "17902753.366776768"
      ]
     },
     "execution_count": 67,
     "metadata": {},
     "output_type": "execute_result"
    }
   ],
   "source": [
    "# kokeillaan vielä laskea tiistain keskimääräinen Download iltapäivällä 3-4\n",
    "mask_ti15 = (df['meas_day_of_week'] == 1 ) & (df['meas_hour'] == 15 )\n",
    "df_masked_ti15 = df.loc[mask_ti15]\n",
    "upl_ti15 = df_masked_ti15['Download'].mean()\n",
    "upl_ti15"
   ]
  },
  {
   "cell_type": "code",
   "execution_count": 68,
   "metadata": {},
   "outputs": [
    {
     "data": {
      "text/plain": [
       "meas_day_of_week\n",
       "0    2.434843e+07\n",
       "1    2.324657e+07\n",
       "2    2.249307e+07\n",
       "3    2.241228e+07\n",
       "4    2.282668e+07\n",
       "5    2.290111e+07\n",
       "6    2.228953e+07\n",
       "Name: Download, dtype: float64"
      ]
     },
     "execution_count": 68,
     "metadata": {},
     "output_type": "execute_result"
    }
   ],
   "source": [
    "# kokeillaan vielä laskea päivittäinen keskimääräinen Download \n",
    "\n",
    "down_days_mean = df.groupby('meas_day_of_week')['Download'].mean()\n",
    "down_days_mean"
   ]
  },
  {
   "cell_type": "code",
   "execution_count": 69,
   "metadata": {},
   "outputs": [
    {
     "data": {
      "text/plain": [
       "24348432.16683429"
      ]
     },
     "execution_count": 69,
     "metadata": {},
     "output_type": "execute_result"
    }
   ],
   "source": [
    "# kokeillaan laskea maanantain keskimääräinen Download varmistuksen vuoksi\n",
    "mask_d_ma = (df['meas_day_of_week'] == 0)\n",
    "df_masked_ma_d = df.loc[mask_d_ma]\n",
    "down_ma = df_masked_ma_d['Download'].mean()\n",
    "down_ma"
   ]
  },
  {
   "cell_type": "code",
   "execution_count": 70,
   "metadata": {},
   "outputs": [
    {
     "data": {
      "text/plain": [
       "meas_hour\n",
       "0     1.937299e+07\n",
       "1     2.611425e+07\n",
       "2     3.209063e+07\n",
       "3     3.618251e+07\n",
       "4     3.930902e+07\n",
       "5     3.994910e+07\n",
       "6     3.714460e+07\n",
       "7     3.217609e+07\n",
       "8     2.731495e+07\n",
       "9     2.639058e+07\n",
       "10    2.389126e+07\n",
       "11    2.275347e+07\n",
       "12    2.219449e+07\n",
       "13    2.100504e+07\n",
       "14    1.947680e+07\n",
       "15    1.781530e+07\n",
       "16    1.670620e+07\n",
       "17    1.533149e+07\n",
       "18    1.448840e+07\n",
       "19    1.358250e+07\n",
       "20    1.198562e+07\n",
       "21    1.087262e+07\n",
       "22    1.029037e+07\n",
       "23    1.352476e+07\n",
       "Name: Download, dtype: float64"
      ]
     },
     "execution_count": 70,
     "metadata": {},
     "output_type": "execute_result"
    }
   ],
   "source": [
    "# Tunneittain\n",
    "down_hours_mean = df.groupby('meas_hour')['Download'].mean()\n",
    "down_hours_mean"
   ]
  },
  {
   "cell_type": "code",
   "execution_count": 71,
   "metadata": {},
   "outputs": [
    {
     "data": {
      "image/png": "[encoded data removed]",
      "text/plain": [
       "<Figure size 1152x360 with 1 Axes>"
      ]
     },
     "metadata": {
      "needs_background": "light"
     },
     "output_type": "display_data"
    }
   ],
   "source": [
    "# Histogrammia alas\n",
    "\n",
    "plt.bar(np.arange(24), df.groupby('meas_hour')['Download'].mean(), align='center', alpha=0.5)\n",
    "plt.xticks(np.arange(24))\n",
    "\n",
    "plt.xlabel('Tunti')\n",
    "plt.ylabel('Download')\n",
    "plt.title('Download-keskiarvo tunneittain')\n",
    "plt.show()"
   ]
  },
  {
   "cell_type": "code",
   "execution_count": 72,
   "metadata": {},
   "outputs": [
    {
     "data": {
      "image/png": "[encoded data removed]",
      "text/plain": [
       "<Figure size 1152x360 with 1 Axes>"
      ]
     },
     "metadata": {
      "needs_background": "light"
     },
     "output_type": "display_data"
    }
   ],
   "source": [
    "# Histogrammia ylös\n",
    "\n",
    "plt.bar(np.arange(24), df.groupby('meas_hour')['Upload'].mean(), align='center', alpha=0.5)\n",
    "plt.xticks(np.arange(24))\n",
    "\n",
    "plt.xlabel('Tunti')\n",
    "plt.ylabel('Upload')\n",
    "plt.title('Upload-keskiarvo tunneittain')\n",
    "plt.show()"
   ]
  },
  {
   "cell_type": "code",
   "execution_count": 73,
   "metadata": {},
   "outputs": [
    {
     "data": {
      "image/png": "[encoded data removed]",
      "text/plain": [
       "<Figure size 1152x360 with 1 Axes>"
      ]
     },
     "metadata": {
      "needs_background": "light"
     },
     "output_type": "display_data"
    }
   ],
   "source": [
    "# data to plot\n",
    "n_groups = 24\n",
    "means_up = df.groupby('meas_hour')['Upload'].mean()\n",
    "means_down = df.groupby('meas_hour')['Download'].mean()\n",
    "\n",
    "# create plot\n",
    "fig, ax = plt.subplots()\n",
    "index = np.arange(n_groups)\n",
    "bar_width = 0.4\n",
    "opacity = 0.50\n",
    "\n",
    "rects1 = plt.bar(index, means_up, bar_width,\n",
    "alpha=opacity,\n",
    "color='g',\n",
    "label='Upload')\n",
    "\n",
    "rects2 = plt.bar(index + bar_width, means_down, bar_width,\n",
    "alpha=opacity,\n",
    "color='b',\n",
    "label='Download')\n",
    "\n",
    "plt.xlabel('Tunnit')\n",
    "plt.ylabel('Siirtonopeuden keskiarvo')\n",
    "plt.title('Siirtonopeuksien keskiarvo tunneittain')\n",
    "plt.xticks(index + (bar_width/2), index)\n",
    "plt.legend()\n",
    "\n",
    "plt.tight_layout()\n",
    "plt.show()"
   ]
  },
  {
   "cell_type": "code",
   "execution_count": 74,
   "metadata": {},
   "outputs": [
    {
     "data": {
      "text/html": [
       "<div>\n",
       "<style scoped>\n",
       "    .dataframe tbody tr th:only-of-type {\n",
       "        vertical-align: middle;\n",
       "    }\n",
       "\n",
       "    .dataframe tbody tr th {\n",
       "        vertical-align: top;\n",
       "    }\n",
       "\n",
       "    .dataframe thead th {\n",
       "        text-align: right;\n",
       "    }\n",
       "</style>\n",
       "<table border=\"1\" class=\"dataframe\">\n",
       "  <thead>\n",
       "    <tr style=\"text-align: right;\">\n",
       "      <th></th>\n",
       "      <th>Server ID</th>\n",
       "      <th>Sponsor</th>\n",
       "      <th>Server Name</th>\n",
       "      <th>Timestamp</th>\n",
       "      <th>Distance</th>\n",
       "      <th>Ping</th>\n",
       "      <th>Download</th>\n",
       "      <th>Upload</th>\n",
       "      <th>IP Address</th>\n",
       "      <th>meas_hour</th>\n",
       "      <th>meas_day_of_week</th>\n",
       "      <th>meas_month</th>\n",
       "      <th>meas_is_weekend</th>\n",
       "    </tr>\n",
       "  </thead>\n",
       "  <tbody>\n",
       "    <tr>\n",
       "      <td>0</td>\n",
       "      <td>4113</td>\n",
       "      <td>AinaCom Oy</td>\n",
       "      <td>Hameenlinna</td>\n",
       "      <td>2019-04-27 17:42:34.795529+03:00</td>\n",
       "      <td>36.370597</td>\n",
       "      <td>31.108</td>\n",
       "      <td>1.093165e+07</td>\n",
       "      <td>2.298769e+07</td>\n",
       "      <td>109.240.230.177</td>\n",
       "      <td>17</td>\n",
       "      <td>5</td>\n",
       "      <td>3</td>\n",
       "      <td>True</td>\n",
       "    </tr>\n",
       "    <tr>\n",
       "      <td>1</td>\n",
       "      <td>4549</td>\n",
       "      <td>Elisa Oyj</td>\n",
       "      <td>Helsinki</td>\n",
       "      <td>2019-04-27 17:51:03.157093+03:00</td>\n",
       "      <td>130.306322</td>\n",
       "      <td>26.457</td>\n",
       "      <td>1.277750e+07</td>\n",
       "      <td>2.232226e+07</td>\n",
       "      <td>109.240.230.177</td>\n",
       "      <td>17</td>\n",
       "      <td>5</td>\n",
       "      <td>3</td>\n",
       "      <td>True</td>\n",
       "    </tr>\n",
       "    <tr>\n",
       "      <td>2</td>\n",
       "      <td>4549</td>\n",
       "      <td>Elisa Oyj</td>\n",
       "      <td>Helsinki</td>\n",
       "      <td>2019-04-27 18:00:03.191761+03:00</td>\n",
       "      <td>130.306322</td>\n",
       "      <td>27.276</td>\n",
       "      <td>1.254651e+07</td>\n",
       "      <td>2.550727e+07</td>\n",
       "      <td>109.240.230.177</td>\n",
       "      <td>18</td>\n",
       "      <td>5</td>\n",
       "      <td>3</td>\n",
       "      <td>True</td>\n",
       "    </tr>\n",
       "    <tr>\n",
       "      <td>3</td>\n",
       "      <td>4113</td>\n",
       "      <td>AinaCom Oy</td>\n",
       "      <td>Hameenlinna</td>\n",
       "      <td>2019-04-27 18:17:02.991595+03:00</td>\n",
       "      <td>36.370597</td>\n",
       "      <td>29.571</td>\n",
       "      <td>1.381782e+07</td>\n",
       "      <td>2.603921e+07</td>\n",
       "      <td>109.240.230.177</td>\n",
       "      <td>18</td>\n",
       "      <td>5</td>\n",
       "      <td>3</td>\n",
       "      <td>True</td>\n",
       "    </tr>\n",
       "    <tr>\n",
       "      <td>4</td>\n",
       "      <td>4549</td>\n",
       "      <td>Elisa Oyj</td>\n",
       "      <td>Helsinki</td>\n",
       "      <td>2019-04-27 18:34:03.359461+03:00</td>\n",
       "      <td>130.306322</td>\n",
       "      <td>29.533</td>\n",
       "      <td>8.309932e+06</td>\n",
       "      <td>2.568938e+07</td>\n",
       "      <td>109.240.230.177</td>\n",
       "      <td>18</td>\n",
       "      <td>5</td>\n",
       "      <td>3</td>\n",
       "      <td>True</td>\n",
       "    </tr>\n",
       "    <tr>\n",
       "      <td>...</td>\n",
       "      <td>...</td>\n",
       "      <td>...</td>\n",
       "      <td>...</td>\n",
       "      <td>...</td>\n",
       "      <td>...</td>\n",
       "      <td>...</td>\n",
       "      <td>...</td>\n",
       "      <td>...</td>\n",
       "      <td>...</td>\n",
       "      <td>...</td>\n",
       "      <td>...</td>\n",
       "      <td>...</td>\n",
       "      <td>...</td>\n",
       "    </tr>\n",
       "    <tr>\n",
       "      <td>27675</td>\n",
       "      <td>3038</td>\n",
       "      <td>Seltimil Oy</td>\n",
       "      <td>Jyvaskyla</td>\n",
       "      <td>2020-03-28 13:10:03.204795+02:00</td>\n",
       "      <td>1.068003</td>\n",
       "      <td>28.278</td>\n",
       "      <td>2.117625e+07</td>\n",
       "      <td>2.696977e+07</td>\n",
       "      <td>109.240.192.231</td>\n",
       "      <td>13</td>\n",
       "      <td>5</td>\n",
       "      <td>2</td>\n",
       "      <td>True</td>\n",
       "    </tr>\n",
       "    <tr>\n",
       "      <td>27676</td>\n",
       "      <td>3038</td>\n",
       "      <td>Seltimil Oy</td>\n",
       "      <td>Jyvaskyla</td>\n",
       "      <td>2020-03-28 13:40:02.730371+02:00</td>\n",
       "      <td>1.068003</td>\n",
       "      <td>24.124</td>\n",
       "      <td>1.482492e+07</td>\n",
       "      <td>2.148748e+07</td>\n",
       "      <td>109.240.192.231</td>\n",
       "      <td>13</td>\n",
       "      <td>5</td>\n",
       "      <td>2</td>\n",
       "      <td>True</td>\n",
       "    </tr>\n",
       "    <tr>\n",
       "      <td>27677</td>\n",
       "      <td>3038</td>\n",
       "      <td>Seltimil Oy</td>\n",
       "      <td>Jyvaskyla</td>\n",
       "      <td>2020-03-28 14:10:02.987938+02:00</td>\n",
       "      <td>1.068003</td>\n",
       "      <td>28.535</td>\n",
       "      <td>1.372991e+07</td>\n",
       "      <td>2.145983e+07</td>\n",
       "      <td>109.240.192.231</td>\n",
       "      <td>14</td>\n",
       "      <td>5</td>\n",
       "      <td>2</td>\n",
       "      <td>True</td>\n",
       "    </tr>\n",
       "    <tr>\n",
       "      <td>27678</td>\n",
       "      <td>3038</td>\n",
       "      <td>Seltimil Oy</td>\n",
       "      <td>Jyvaskyla</td>\n",
       "      <td>2020-03-28 14:40:03.218262+02:00</td>\n",
       "      <td>1.068003</td>\n",
       "      <td>28.403</td>\n",
       "      <td>1.904317e+07</td>\n",
       "      <td>2.177915e+07</td>\n",
       "      <td>109.240.192.231</td>\n",
       "      <td>14</td>\n",
       "      <td>5</td>\n",
       "      <td>2</td>\n",
       "      <td>True</td>\n",
       "    </tr>\n",
       "    <tr>\n",
       "      <td>27679</td>\n",
       "      <td>3038</td>\n",
       "      <td>Seltimil Oy</td>\n",
       "      <td>Jyvaskyla</td>\n",
       "      <td>2020-03-28 15:10:02.868146+02:00</td>\n",
       "      <td>1.068003</td>\n",
       "      <td>27.745</td>\n",
       "      <td>1.579473e+07</td>\n",
       "      <td>3.232823e+06</td>\n",
       "      <td>109.240.192.231</td>\n",
       "      <td>15</td>\n",
       "      <td>5</td>\n",
       "      <td>2</td>\n",
       "      <td>True</td>\n",
       "    </tr>\n",
       "  </tbody>\n",
       "</table>\n",
       "<p>27680 rows × 13 columns</p>\n",
       "</div>"
      ],
      "text/plain": [
       "       Server ID      Sponsor  Server Name                        Timestamp  \\\n",
       "0           4113   AinaCom Oy  Hameenlinna 2019-04-27 17:42:34.795529+03:00   \n",
       "1           4549    Elisa Oyj     Helsinki 2019-04-27 17:51:03.157093+03:00   \n",
       "2           4549    Elisa Oyj     Helsinki 2019-04-27 18:00:03.191761+03:00   \n",
       "3           4113   AinaCom Oy  Hameenlinna 2019-04-27 18:17:02.991595+03:00   \n",
       "4           4549    Elisa Oyj     Helsinki 2019-04-27 18:34:03.359461+03:00   \n",
       "...          ...          ...          ...                              ...   \n",
       "27675       3038  Seltimil Oy    Jyvaskyla 2020-03-28 13:10:03.204795+02:00   \n",
       "27676       3038  Seltimil Oy    Jyvaskyla 2020-03-28 13:40:02.730371+02:00   \n",
       "27677       3038  Seltimil Oy    Jyvaskyla 2020-03-28 14:10:02.987938+02:00   \n",
       "27678       3038  Seltimil Oy    Jyvaskyla 2020-03-28 14:40:03.218262+02:00   \n",
       "27679       3038  Seltimil Oy    Jyvaskyla 2020-03-28 15:10:02.868146+02:00   \n",
       "\n",
       "         Distance    Ping      Download        Upload       IP Address  \\\n",
       "0       36.370597  31.108  1.093165e+07  2.298769e+07  109.240.230.177   \n",
       "1      130.306322  26.457  1.277750e+07  2.232226e+07  109.240.230.177   \n",
       "2      130.306322  27.276  1.254651e+07  2.550727e+07  109.240.230.177   \n",
       "3       36.370597  29.571  1.381782e+07  2.603921e+07  109.240.230.177   \n",
       "4      130.306322  29.533  8.309932e+06  2.568938e+07  109.240.230.177   \n",
       "...           ...     ...           ...           ...              ...   \n",
       "27675    1.068003  28.278  2.117625e+07  2.696977e+07  109.240.192.231   \n",
       "27676    1.068003  24.124  1.482492e+07  2.148748e+07  109.240.192.231   \n",
       "27677    1.068003  28.535  1.372991e+07  2.145983e+07  109.240.192.231   \n",
       "27678    1.068003  28.403  1.904317e+07  2.177915e+07  109.240.192.231   \n",
       "27679    1.068003  27.745  1.579473e+07  3.232823e+06  109.240.192.231   \n",
       "\n",
       "       meas_hour  meas_day_of_week  meas_month  meas_is_weekend  \n",
       "0             17                 5           3             True  \n",
       "1             17                 5           3             True  \n",
       "2             18                 5           3             True  \n",
       "3             18                 5           3             True  \n",
       "4             18                 5           3             True  \n",
       "...          ...               ...         ...              ...  \n",
       "27675         13                 5           2             True  \n",
       "27676         13                 5           2             True  \n",
       "27677         14                 5           2             True  \n",
       "27678         14                 5           2             True  \n",
       "27679         15                 5           2             True  \n",
       "\n",
       "[27680 rows x 13 columns]"
      ]
     },
     "execution_count": 74,
     "metadata": {},
     "output_type": "execute_result"
    }
   ],
   "source": [
    "df"
   ]
  },
  {
   "cell_type": "code",
   "execution_count": 75,
   "metadata": {},
   "outputs": [
    {
     "data": {
      "text/plain": [
       "meas_day_of_week  meas_hour\n",
       "0                 0            1.905757e+07\n",
       "                  1            2.760525e+07\n",
       "                  2            3.440425e+07\n",
       "                  3            3.918826e+07\n",
       "                  4            4.061564e+07\n",
       "                                   ...     \n",
       "6                 19           1.249412e+07\n",
       "                  20           1.132206e+07\n",
       "                  21           9.043297e+06\n",
       "                  22           8.966601e+06\n",
       "                  23           1.189115e+07\n",
       "Name: Download, Length: 168, dtype: float64"
      ]
     },
     "execution_count": 75,
     "metadata": {},
     "output_type": "execute_result"
    }
   ],
   "source": [
    "down_means_by_hours_and_days = df.groupby(['meas_day_of_week', 'meas_hour'])['Download'].mean()\n",
    "down_means_by_hours_and_days"
   ]
  },
  {
   "cell_type": "code",
   "execution_count": 76,
   "metadata": {},
   "outputs": [
    {
     "data": {
      "text/html": [
       "<div>\n",
       "<style scoped>\n",
       "    .dataframe tbody tr th:only-of-type {\n",
       "        vertical-align: middle;\n",
       "    }\n",
       "\n",
       "    .dataframe tbody tr th {\n",
       "        vertical-align: top;\n",
       "    }\n",
       "\n",
       "    .dataframe thead th {\n",
       "        text-align: right;\n",
       "    }\n",
       "</style>\n",
       "<table border=\"1\" class=\"dataframe\">\n",
       "  <thead>\n",
       "    <tr style=\"text-align: right;\">\n",
       "      <th>meas_hour</th>\n",
       "      <th>0</th>\n",
       "      <th>1</th>\n",
       "      <th>2</th>\n",
       "      <th>3</th>\n",
       "      <th>4</th>\n",
       "      <th>5</th>\n",
       "      <th>6</th>\n",
       "      <th>7</th>\n",
       "      <th>8</th>\n",
       "      <th>9</th>\n",
       "      <th>...</th>\n",
       "      <th>14</th>\n",
       "      <th>15</th>\n",
       "      <th>16</th>\n",
       "      <th>17</th>\n",
       "      <th>18</th>\n",
       "      <th>19</th>\n",
       "      <th>20</th>\n",
       "      <th>21</th>\n",
       "      <th>22</th>\n",
       "      <th>23</th>\n",
       "    </tr>\n",
       "    <tr>\n",
       "      <th>meas_day_of_week</th>\n",
       "      <th></th>\n",
       "      <th></th>\n",
       "      <th></th>\n",
       "      <th></th>\n",
       "      <th></th>\n",
       "      <th></th>\n",
       "      <th></th>\n",
       "      <th></th>\n",
       "      <th></th>\n",
       "      <th></th>\n",
       "      <th></th>\n",
       "      <th></th>\n",
       "      <th></th>\n",
       "      <th></th>\n",
       "      <th></th>\n",
       "      <th></th>\n",
       "      <th></th>\n",
       "      <th></th>\n",
       "      <th></th>\n",
       "      <th></th>\n",
       "      <th></th>\n",
       "    </tr>\n",
       "  </thead>\n",
       "  <tbody>\n",
       "    <tr>\n",
       "      <td>0</td>\n",
       "      <td>1.905757e+07</td>\n",
       "      <td>2.760525e+07</td>\n",
       "      <td>3.440425e+07</td>\n",
       "      <td>3.918826e+07</td>\n",
       "      <td>4.061564e+07</td>\n",
       "      <td>4.156655e+07</td>\n",
       "      <td>3.816359e+07</td>\n",
       "      <td>3.216673e+07</td>\n",
       "      <td>2.802013e+07</td>\n",
       "      <td>2.889570e+07</td>\n",
       "      <td>...</td>\n",
       "      <td>2.309187e+07</td>\n",
       "      <td>2.043257e+07</td>\n",
       "      <td>1.819642e+07</td>\n",
       "      <td>1.646295e+07</td>\n",
       "      <td>1.483784e+07</td>\n",
       "      <td>1.358675e+07</td>\n",
       "      <td>1.216876e+07</td>\n",
       "      <td>1.096883e+07</td>\n",
       "      <td>1.021610e+07</td>\n",
       "      <td>1.402005e+07</td>\n",
       "    </tr>\n",
       "    <tr>\n",
       "      <td>1</td>\n",
       "      <td>2.089379e+07</td>\n",
       "      <td>2.785649e+07</td>\n",
       "      <td>3.437334e+07</td>\n",
       "      <td>3.843195e+07</td>\n",
       "      <td>4.169094e+07</td>\n",
       "      <td>3.952118e+07</td>\n",
       "      <td>3.594791e+07</td>\n",
       "      <td>2.974071e+07</td>\n",
       "      <td>2.631733e+07</td>\n",
       "      <td>2.731751e+07</td>\n",
       "      <td>...</td>\n",
       "      <td>2.069338e+07</td>\n",
       "      <td>1.790275e+07</td>\n",
       "      <td>1.581739e+07</td>\n",
       "      <td>1.515066e+07</td>\n",
       "      <td>1.382185e+07</td>\n",
       "      <td>1.303214e+07</td>\n",
       "      <td>1.118168e+07</td>\n",
       "      <td>9.080318e+06</td>\n",
       "      <td>9.277173e+06</td>\n",
       "      <td>1.348679e+07</td>\n",
       "    </tr>\n",
       "    <tr>\n",
       "      <td>2</td>\n",
       "      <td>2.015751e+07</td>\n",
       "      <td>2.598975e+07</td>\n",
       "      <td>3.107359e+07</td>\n",
       "      <td>3.769889e+07</td>\n",
       "      <td>3.926517e+07</td>\n",
       "      <td>3.884929e+07</td>\n",
       "      <td>3.413482e+07</td>\n",
       "      <td>2.936410e+07</td>\n",
       "      <td>2.567362e+07</td>\n",
       "      <td>2.537957e+07</td>\n",
       "      <td>...</td>\n",
       "      <td>1.921929e+07</td>\n",
       "      <td>1.830509e+07</td>\n",
       "      <td>1.821696e+07</td>\n",
       "      <td>1.469859e+07</td>\n",
       "      <td>1.356161e+07</td>\n",
       "      <td>1.294966e+07</td>\n",
       "      <td>1.092196e+07</td>\n",
       "      <td>1.043215e+07</td>\n",
       "      <td>1.044941e+07</td>\n",
       "      <td>1.437686e+07</td>\n",
       "    </tr>\n",
       "    <tr>\n",
       "      <td>3</td>\n",
       "      <td>2.052484e+07</td>\n",
       "      <td>2.653897e+07</td>\n",
       "      <td>3.376386e+07</td>\n",
       "      <td>3.603894e+07</td>\n",
       "      <td>3.867018e+07</td>\n",
       "      <td>3.986361e+07</td>\n",
       "      <td>3.458362e+07</td>\n",
       "      <td>2.959110e+07</td>\n",
       "      <td>2.416052e+07</td>\n",
       "      <td>2.453738e+07</td>\n",
       "      <td>...</td>\n",
       "      <td>1.905594e+07</td>\n",
       "      <td>1.737558e+07</td>\n",
       "      <td>1.693999e+07</td>\n",
       "      <td>1.508538e+07</td>\n",
       "      <td>1.487083e+07</td>\n",
       "      <td>1.299573e+07</td>\n",
       "      <td>1.102239e+07</td>\n",
       "      <td>1.010667e+07</td>\n",
       "      <td>9.799291e+06</td>\n",
       "      <td>1.241997e+07</td>\n",
       "    </tr>\n",
       "    <tr>\n",
       "      <td>4</td>\n",
       "      <td>1.805212e+07</td>\n",
       "      <td>2.403164e+07</td>\n",
       "      <td>2.939685e+07</td>\n",
       "      <td>3.232538e+07</td>\n",
       "      <td>3.759541e+07</td>\n",
       "      <td>3.790783e+07</td>\n",
       "      <td>3.474136e+07</td>\n",
       "      <td>3.049795e+07</td>\n",
       "      <td>2.707409e+07</td>\n",
       "      <td>2.659752e+07</td>\n",
       "      <td>...</td>\n",
       "      <td>1.912312e+07</td>\n",
       "      <td>1.786831e+07</td>\n",
       "      <td>1.566294e+07</td>\n",
       "      <td>1.663032e+07</td>\n",
       "      <td>1.602106e+07</td>\n",
       "      <td>1.494354e+07</td>\n",
       "      <td>1.322718e+07</td>\n",
       "      <td>1.287293e+07</td>\n",
       "      <td>1.201209e+07</td>\n",
       "      <td>1.475138e+07</td>\n",
       "    </tr>\n",
       "    <tr>\n",
       "      <td>5</td>\n",
       "      <td>1.974440e+07</td>\n",
       "      <td>2.613055e+07</td>\n",
       "      <td>3.206110e+07</td>\n",
       "      <td>3.512648e+07</td>\n",
       "      <td>3.901325e+07</td>\n",
       "      <td>4.031672e+07</td>\n",
       "      <td>4.014622e+07</td>\n",
       "      <td>3.469812e+07</td>\n",
       "      <td>3.032615e+07</td>\n",
       "      <td>2.466266e+07</td>\n",
       "      <td>...</td>\n",
       "      <td>1.691230e+07</td>\n",
       "      <td>1.601719e+07</td>\n",
       "      <td>1.779170e+07</td>\n",
       "      <td>1.545171e+07</td>\n",
       "      <td>1.478438e+07</td>\n",
       "      <td>1.507986e+07</td>\n",
       "      <td>1.407280e+07</td>\n",
       "      <td>1.359360e+07</td>\n",
       "      <td>1.130536e+07</td>\n",
       "      <td>1.374701e+07</td>\n",
       "    </tr>\n",
       "    <tr>\n",
       "      <td>6</td>\n",
       "      <td>1.722896e+07</td>\n",
       "      <td>2.471137e+07</td>\n",
       "      <td>2.958633e+07</td>\n",
       "      <td>3.460377e+07</td>\n",
       "      <td>3.836993e+07</td>\n",
       "      <td>4.167040e+07</td>\n",
       "      <td>4.241573e+07</td>\n",
       "      <td>3.927791e+07</td>\n",
       "      <td>2.971562e+07</td>\n",
       "      <td>2.738386e+07</td>\n",
       "      <td>...</td>\n",
       "      <td>1.820735e+07</td>\n",
       "      <td>1.673547e+07</td>\n",
       "      <td>1.425911e+07</td>\n",
       "      <td>1.385217e+07</td>\n",
       "      <td>1.350196e+07</td>\n",
       "      <td>1.249412e+07</td>\n",
       "      <td>1.132206e+07</td>\n",
       "      <td>9.043297e+06</td>\n",
       "      <td>8.966601e+06</td>\n",
       "      <td>1.189115e+07</td>\n",
       "    </tr>\n",
       "  </tbody>\n",
       "</table>\n",
       "<p>7 rows × 24 columns</p>\n",
       "</div>"
      ],
      "text/plain": [
       "meas_hour                   0             1             2             3   \\\n",
       "meas_day_of_week                                                           \n",
       "0                 1.905757e+07  2.760525e+07  3.440425e+07  3.918826e+07   \n",
       "1                 2.089379e+07  2.785649e+07  3.437334e+07  3.843195e+07   \n",
       "2                 2.015751e+07  2.598975e+07  3.107359e+07  3.769889e+07   \n",
       "3                 2.052484e+07  2.653897e+07  3.376386e+07  3.603894e+07   \n",
       "4                 1.805212e+07  2.403164e+07  2.939685e+07  3.232538e+07   \n",
       "5                 1.974440e+07  2.613055e+07  3.206110e+07  3.512648e+07   \n",
       "6                 1.722896e+07  2.471137e+07  2.958633e+07  3.460377e+07   \n",
       "\n",
       "meas_hour                   4             5             6             7   \\\n",
       "meas_day_of_week                                                           \n",
       "0                 4.061564e+07  4.156655e+07  3.816359e+07  3.216673e+07   \n",
       "1                 4.169094e+07  3.952118e+07  3.594791e+07  2.974071e+07   \n",
       "2                 3.926517e+07  3.884929e+07  3.413482e+07  2.936410e+07   \n",
       "3                 3.867018e+07  3.986361e+07  3.458362e+07  2.959110e+07   \n",
       "4                 3.759541e+07  3.790783e+07  3.474136e+07  3.049795e+07   \n",
       "5                 3.901325e+07  4.031672e+07  4.014622e+07  3.469812e+07   \n",
       "6                 3.836993e+07  4.167040e+07  4.241573e+07  3.927791e+07   \n",
       "\n",
       "meas_hour                   8             9   ...            14            15  \\\n",
       "meas_day_of_week                              ...                               \n",
       "0                 2.802013e+07  2.889570e+07  ...  2.309187e+07  2.043257e+07   \n",
       "1                 2.631733e+07  2.731751e+07  ...  2.069338e+07  1.790275e+07   \n",
       "2                 2.567362e+07  2.537957e+07  ...  1.921929e+07  1.830509e+07   \n",
       "3                 2.416052e+07  2.453738e+07  ...  1.905594e+07  1.737558e+07   \n",
       "4                 2.707409e+07  2.659752e+07  ...  1.912312e+07  1.786831e+07   \n",
       "5                 3.032615e+07  2.466266e+07  ...  1.691230e+07  1.601719e+07   \n",
       "6                 2.971562e+07  2.738386e+07  ...  1.820735e+07  1.673547e+07   \n",
       "\n",
       "meas_hour                   16            17            18            19  \\\n",
       "meas_day_of_week                                                           \n",
       "0                 1.819642e+07  1.646295e+07  1.483784e+07  1.358675e+07   \n",
       "1                 1.581739e+07  1.515066e+07  1.382185e+07  1.303214e+07   \n",
       "2                 1.821696e+07  1.469859e+07  1.356161e+07  1.294966e+07   \n",
       "3                 1.693999e+07  1.508538e+07  1.487083e+07  1.299573e+07   \n",
       "4                 1.566294e+07  1.663032e+07  1.602106e+07  1.494354e+07   \n",
       "5                 1.779170e+07  1.545171e+07  1.478438e+07  1.507986e+07   \n",
       "6                 1.425911e+07  1.385217e+07  1.350196e+07  1.249412e+07   \n",
       "\n",
       "meas_hour                   20            21            22            23  \n",
       "meas_day_of_week                                                          \n",
       "0                 1.216876e+07  1.096883e+07  1.021610e+07  1.402005e+07  \n",
       "1                 1.118168e+07  9.080318e+06  9.277173e+06  1.348679e+07  \n",
       "2                 1.092196e+07  1.043215e+07  1.044941e+07  1.437686e+07  \n",
       "3                 1.102239e+07  1.010667e+07  9.799291e+06  1.241997e+07  \n",
       "4                 1.322718e+07  1.287293e+07  1.201209e+07  1.475138e+07  \n",
       "5                 1.407280e+07  1.359360e+07  1.130536e+07  1.374701e+07  \n",
       "6                 1.132206e+07  9.043297e+06  8.966601e+06  1.189115e+07  \n",
       "\n",
       "[7 rows x 24 columns]"
      ]
     },
     "execution_count": 76,
     "metadata": {},
     "output_type": "execute_result"
    }
   ],
   "source": [
    "down_means_by_hours_and_days.unstack()"
   ]
  },
  {
   "cell_type": "code",
   "execution_count": 77,
   "metadata": {},
   "outputs": [
    {
     "data": {
      "image/png": "[encoded data removed]",
      "text/plain": [
       "<Figure size 1152x360 with 1 Axes>"
      ]
     },
     "metadata": {
      "needs_background": "light"
     },
     "output_type": "display_data"
    }
   ],
   "source": [
    "# df = DataFrame(abs(np.random.randn(5, 4)), index=Index, columns=Cols)\n",
    "# ax.set_xticks(np.arange(24))\n",
    "# ax.set_yticks(np.arange(7))\n",
    "# ax.set_xticklabel(meas_hour_list)\n",
    "# ax.set_yticklabel(label_day_list)\n",
    "# ax.set_xlabel('Measurement hour')\n",
    "# ax.set_ylabel('Weekday') \n",
    "\n",
    "days = [\"Monday\", \"Tuesday\", \"Wednesday\", \"Thursday\",\n",
    "              \"Friday\", \"Saturday\", \"Sunday\"]\n",
    "\n",
    "\n",
    "plt.pcolor(down_means_by_hours_and_days.unstack())\n",
    "# plt.yticks(np.arange(0.5, len(df.index), 1), df.index)\n",
    "plt.yticks(np.arange(0.5, 7, 1), days)\n",
    "# plt.xticks(np.arange(0.5, len(df.columns), 1), df.columns)\n",
    "plt.xticks(np.arange(0.5, 24, 1), np.arange(24))\n",
    "\n",
    "plt.show()"
   ]
  },
  {
   "cell_type": "code",
   "execution_count": 78,
   "metadata": {},
   "outputs": [
    {
     "data": {
      "text/plain": [
       "IP Address\n",
       "109.240.1.102      2.409935e+07\n",
       "109.240.101.53     2.428098e+07\n",
       "109.240.121.149    2.537639e+07\n",
       "109.240.123.213    5.914047e+06\n",
       "109.240.134.174    1.796000e+07\n",
       "109.240.138.113    2.423497e+07\n",
       "109.240.145.139    2.281715e+07\n",
       "109.240.15.79      2.429599e+07\n",
       "109.240.17.32      7.598597e+06\n",
       "109.240.185.228    3.223398e+07\n",
       "109.240.188.80     1.980017e+07\n",
       "109.240.192.231    2.187597e+07\n",
       "109.240.192.98     2.330583e+07\n",
       "109.240.216.194    4.001048e+06\n",
       "109.240.218.231    2.103235e+07\n",
       "109.240.219.178    2.239109e+07\n",
       "109.240.230.177    2.648435e+07\n",
       "109.240.242.162    2.933839e+07\n",
       "109.240.246.172    2.726119e+07\n",
       "109.240.249.78     7.057454e+06\n",
       "109.240.251.44     2.446529e+07\n",
       "109.240.251.68     2.656367e+07\n",
       "109.240.26.129     3.815837e+07\n",
       "109.240.32.105     2.113008e+07\n",
       "109.240.33.16      2.261449e+07\n",
       "109.240.39.92      1.695617e+07\n",
       "109.240.45.94      8.381599e+06\n",
       "109.240.49.178     3.161582e+07\n",
       "109.240.51.87      1.161574e+07\n",
       "109.240.60.48      5.855101e+06\n",
       "109.240.61.0       2.124819e+07\n",
       "109.240.67.210     1.265058e+07\n",
       "109.240.79.119     2.893124e+07\n",
       "109.240.85.102     1.126284e+07\n",
       "109.240.9.3        2.017985e+07\n",
       "109.240.90.125     4.103618e+07\n",
       "109.240.94.242     1.691048e+07\n",
       "109.240.95.205     2.162765e+07\n",
       "188.238.160.192    2.538451e+07\n",
       "188.238.234.117    3.081597e+07\n",
       "188.238.243.137    2.276762e+07\n",
       "188.238.68.209     2.267414e+07\n",
       "46.132.5.200       3.766147e+07\n",
       "Name: Download, dtype: float64"
      ]
     },
     "execution_count": 78,
     "metadata": {},
     "output_type": "execute_result"
    }
   ],
   "source": [
    "# IP-osoitteittain Download\n",
    "down_by_ipa_mean = df.groupby('IP Address')['Download'].mean()\n",
    "down_by_ipa_mean"
   ]
  },
  {
   "cell_type": "code",
   "execution_count": 79,
   "metadata": {},
   "outputs": [
    {
     "data": {
      "text/plain": [
       "Sponsor\n",
       "AinaCom Oy                         2.427465e+07\n",
       "Elisa Oyj                          2.596473e+07\n",
       "Elmo                               6.310406e+06\n",
       "GLH Netsolutions                   5.366220e+06\n",
       "JNT                                5.288877e+06\n",
       "Kaisanet Oy                        6.176559e+06\n",
       "Keski-Suomen Valokuituverkot Oy    6.958013e+06\n",
       "Lounea                             2.433027e+07\n",
       "MPY Palvelut Oyj                   4.535938e+06\n",
       "MPY Telecom Oyj                    7.117887e+06\n",
       "Mati forsman                       4.993258e+06\n",
       "Napapiirin Kuituverkot Oy          6.065414e+06\n",
       "Netplaza Oy                        7.187992e+06\n",
       "Omerta.io                          5.347719e+06\n",
       "Seltimil Oy                        2.289890e+07\n",
       "Storbackas                         5.546301e+06\n",
       "Teliacommunication Oy              2.440128e+07\n",
       "Web1 Oy                            1.968338e+07\n",
       "Name: Download, dtype: float64"
      ]
     },
     "execution_count": 79,
     "metadata": {},
     "output_type": "execute_result"
    }
   ],
   "source": [
    "# Sponsoreittain Download\n",
    "down_by_sponsor_mean = df.groupby('Sponsor')['Download'].mean()\n",
    "down_by_sponsor_mean"
   ]
  },
  {
   "cell_type": "code",
   "execution_count": 80,
   "metadata": {},
   "outputs": [],
   "source": [
    "df_down_by_sponsor = df.groupby('Sponsor')['Download']"
   ]
  },
  {
   "cell_type": "code",
   "execution_count": 81,
   "metadata": {},
   "outputs": [
    {
     "data": {
      "text/html": [
       "<div>\n",
       "<style scoped>\n",
       "    .dataframe tbody tr th:only-of-type {\n",
       "        vertical-align: middle;\n",
       "    }\n",
       "\n",
       "    .dataframe tbody tr th {\n",
       "        vertical-align: top;\n",
       "    }\n",
       "\n",
       "    .dataframe thead th {\n",
       "        text-align: right;\n",
       "    }\n",
       "</style>\n",
       "<table border=\"1\" class=\"dataframe\">\n",
       "  <thead>\n",
       "    <tr style=\"text-align: right;\">\n",
       "      <th></th>\n",
       "      <th>count</th>\n",
       "      <th>mean</th>\n",
       "      <th>std</th>\n",
       "      <th>min</th>\n",
       "      <th>25%</th>\n",
       "      <th>50%</th>\n",
       "      <th>75%</th>\n",
       "      <th>max</th>\n",
       "    </tr>\n",
       "    <tr>\n",
       "      <th>Sponsor</th>\n",
       "      <th></th>\n",
       "      <th></th>\n",
       "      <th></th>\n",
       "      <th></th>\n",
       "      <th></th>\n",
       "      <th></th>\n",
       "      <th></th>\n",
       "      <th></th>\n",
       "    </tr>\n",
       "  </thead>\n",
       "  <tbody>\n",
       "    <tr>\n",
       "      <td>AinaCom Oy</td>\n",
       "      <td>668.0</td>\n",
       "      <td>2.427465e+07</td>\n",
       "      <td>1.593442e+07</td>\n",
       "      <td>8.606605e+05</td>\n",
       "      <td>1.048728e+07</td>\n",
       "      <td>2.198223e+07</td>\n",
       "      <td>3.508189e+07</td>\n",
       "      <td>8.202903e+07</td>\n",
       "    </tr>\n",
       "    <tr>\n",
       "      <td>Elisa Oyj</td>\n",
       "      <td>5305.0</td>\n",
       "      <td>2.596473e+07</td>\n",
       "      <td>1.682688e+07</td>\n",
       "      <td>0.000000e+00</td>\n",
       "      <td>1.292389e+07</td>\n",
       "      <td>2.182796e+07</td>\n",
       "      <td>3.571418e+07</td>\n",
       "      <td>8.567023e+07</td>\n",
       "    </tr>\n",
       "    <tr>\n",
       "      <td>Elmo</td>\n",
       "      <td>4.0</td>\n",
       "      <td>6.310406e+06</td>\n",
       "      <td>4.223769e+06</td>\n",
       "      <td>0.000000e+00</td>\n",
       "      <td>6.066395e+06</td>\n",
       "      <td>8.149872e+06</td>\n",
       "      <td>8.393883e+06</td>\n",
       "      <td>8.941878e+06</td>\n",
       "    </tr>\n",
       "    <tr>\n",
       "      <td>GLH Netsolutions</td>\n",
       "      <td>4.0</td>\n",
       "      <td>5.366220e+06</td>\n",
       "      <td>3.433340e+06</td>\n",
       "      <td>2.127348e+06</td>\n",
       "      <td>2.808336e+06</td>\n",
       "      <td>4.892408e+06</td>\n",
       "      <td>7.450291e+06</td>\n",
       "      <td>9.552714e+06</td>\n",
       "    </tr>\n",
       "    <tr>\n",
       "      <td>JNT</td>\n",
       "      <td>60.0</td>\n",
       "      <td>5.288877e+06</td>\n",
       "      <td>2.274102e+06</td>\n",
       "      <td>1.961622e+06</td>\n",
       "      <td>3.473380e+06</td>\n",
       "      <td>5.089995e+06</td>\n",
       "      <td>6.554562e+06</td>\n",
       "      <td>1.300426e+07</td>\n",
       "    </tr>\n",
       "    <tr>\n",
       "      <td>Kaisanet Oy</td>\n",
       "      <td>40.0</td>\n",
       "      <td>6.176559e+06</td>\n",
       "      <td>2.780841e+06</td>\n",
       "      <td>3.599916e+05</td>\n",
       "      <td>4.333419e+06</td>\n",
       "      <td>6.143900e+06</td>\n",
       "      <td>7.761231e+06</td>\n",
       "      <td>1.236567e+07</td>\n",
       "    </tr>\n",
       "    <tr>\n",
       "      <td>Keski-Suomen Valokuituverkot Oy</td>\n",
       "      <td>14.0</td>\n",
       "      <td>6.958013e+06</td>\n",
       "      <td>1.907035e+06</td>\n",
       "      <td>2.334478e+06</td>\n",
       "      <td>6.130076e+06</td>\n",
       "      <td>7.034331e+06</td>\n",
       "      <td>8.255044e+06</td>\n",
       "      <td>9.991114e+06</td>\n",
       "    </tr>\n",
       "    <tr>\n",
       "      <td>Lounea</td>\n",
       "      <td>9092.0</td>\n",
       "      <td>2.433027e+07</td>\n",
       "      <td>1.357777e+07</td>\n",
       "      <td>5.137499e+05</td>\n",
       "      <td>1.399676e+07</td>\n",
       "      <td>2.137001e+07</td>\n",
       "      <td>3.289949e+07</td>\n",
       "      <td>7.634717e+07</td>\n",
       "    </tr>\n",
       "    <tr>\n",
       "      <td>MPY Palvelut Oyj</td>\n",
       "      <td>1.0</td>\n",
       "      <td>4.535938e+06</td>\n",
       "      <td>NaN</td>\n",
       "      <td>4.535938e+06</td>\n",
       "      <td>4.535938e+06</td>\n",
       "      <td>4.535938e+06</td>\n",
       "      <td>4.535938e+06</td>\n",
       "      <td>4.535938e+06</td>\n",
       "    </tr>\n",
       "    <tr>\n",
       "      <td>MPY Telecom Oyj</td>\n",
       "      <td>9.0</td>\n",
       "      <td>7.117887e+06</td>\n",
       "      <td>3.326246e+06</td>\n",
       "      <td>2.257961e+06</td>\n",
       "      <td>5.187823e+06</td>\n",
       "      <td>7.940703e+06</td>\n",
       "      <td>8.732560e+06</td>\n",
       "      <td>1.157058e+07</td>\n",
       "    </tr>\n",
       "    <tr>\n",
       "      <td>Mati forsman</td>\n",
       "      <td>12.0</td>\n",
       "      <td>4.993258e+06</td>\n",
       "      <td>2.208873e+06</td>\n",
       "      <td>1.678396e+06</td>\n",
       "      <td>2.672839e+06</td>\n",
       "      <td>5.116245e+06</td>\n",
       "      <td>6.684336e+06</td>\n",
       "      <td>8.122902e+06</td>\n",
       "    </tr>\n",
       "    <tr>\n",
       "      <td>Napapiirin Kuituverkot Oy</td>\n",
       "      <td>43.0</td>\n",
       "      <td>6.065414e+06</td>\n",
       "      <td>2.011646e+06</td>\n",
       "      <td>2.730895e+06</td>\n",
       "      <td>4.889771e+06</td>\n",
       "      <td>5.928700e+06</td>\n",
       "      <td>7.211701e+06</td>\n",
       "      <td>1.190160e+07</td>\n",
       "    </tr>\n",
       "    <tr>\n",
       "      <td>Netplaza Oy</td>\n",
       "      <td>1788.0</td>\n",
       "      <td>7.187992e+06</td>\n",
       "      <td>2.530504e+06</td>\n",
       "      <td>3.280110e+05</td>\n",
       "      <td>5.468418e+06</td>\n",
       "      <td>6.974242e+06</td>\n",
       "      <td>8.629241e+06</td>\n",
       "      <td>1.554283e+07</td>\n",
       "    </tr>\n",
       "    <tr>\n",
       "      <td>Omerta.io</td>\n",
       "      <td>23.0</td>\n",
       "      <td>5.347719e+06</td>\n",
       "      <td>2.739202e+06</td>\n",
       "      <td>6.888046e+05</td>\n",
       "      <td>3.509311e+06</td>\n",
       "      <td>5.452589e+06</td>\n",
       "      <td>7.481748e+06</td>\n",
       "      <td>1.030341e+07</td>\n",
       "    </tr>\n",
       "    <tr>\n",
       "      <td>Seltimil Oy</td>\n",
       "      <td>8470.0</td>\n",
       "      <td>2.289890e+07</td>\n",
       "      <td>1.435918e+07</td>\n",
       "      <td>4.130149e+05</td>\n",
       "      <td>1.231864e+07</td>\n",
       "      <td>2.017280e+07</td>\n",
       "      <td>3.110105e+07</td>\n",
       "      <td>8.697986e+07</td>\n",
       "    </tr>\n",
       "    <tr>\n",
       "      <td>Storbackas</td>\n",
       "      <td>20.0</td>\n",
       "      <td>5.546301e+06</td>\n",
       "      <td>2.012182e+06</td>\n",
       "      <td>2.341351e+06</td>\n",
       "      <td>4.241255e+06</td>\n",
       "      <td>5.931020e+06</td>\n",
       "      <td>6.699803e+06</td>\n",
       "      <td>1.031573e+07</td>\n",
       "    </tr>\n",
       "    <tr>\n",
       "      <td>Teliacommunication Oy</td>\n",
       "      <td>2010.0</td>\n",
       "      <td>2.440128e+07</td>\n",
       "      <td>1.471815e+07</td>\n",
       "      <td>8.867913e+05</td>\n",
       "      <td>1.300144e+07</td>\n",
       "      <td>2.085260e+07</td>\n",
       "      <td>3.412191e+07</td>\n",
       "      <td>7.781335e+07</td>\n",
       "    </tr>\n",
       "    <tr>\n",
       "      <td>Web1 Oy</td>\n",
       "      <td>117.0</td>\n",
       "      <td>1.968338e+07</td>\n",
       "      <td>1.253943e+07</td>\n",
       "      <td>1.250210e+06</td>\n",
       "      <td>1.020485e+07</td>\n",
       "      <td>1.704151e+07</td>\n",
       "      <td>2.583036e+07</td>\n",
       "      <td>5.594366e+07</td>\n",
       "    </tr>\n",
       "  </tbody>\n",
       "</table>\n",
       "</div>"
      ],
      "text/plain": [
       "                                  count          mean           std  \\\n",
       "Sponsor                                                               \n",
       "AinaCom Oy                        668.0  2.427465e+07  1.593442e+07   \n",
       "Elisa Oyj                        5305.0  2.596473e+07  1.682688e+07   \n",
       "Elmo                                4.0  6.310406e+06  4.223769e+06   \n",
       "GLH Netsolutions                    4.0  5.366220e+06  3.433340e+06   \n",
       "JNT                                60.0  5.288877e+06  2.274102e+06   \n",
       "Kaisanet Oy                        40.0  6.176559e+06  2.780841e+06   \n",
       "Keski-Suomen Valokuituverkot Oy    14.0  6.958013e+06  1.907035e+06   \n",
       "Lounea                           9092.0  2.433027e+07  1.357777e+07   \n",
       "MPY Palvelut Oyj                    1.0  4.535938e+06           NaN   \n",
       "MPY Telecom Oyj                     9.0  7.117887e+06  3.326246e+06   \n",
       "Mati forsman                       12.0  4.993258e+06  2.208873e+06   \n",
       "Napapiirin Kuituverkot Oy          43.0  6.065414e+06  2.011646e+06   \n",
       "Netplaza Oy                      1788.0  7.187992e+06  2.530504e+06   \n",
       "Omerta.io                          23.0  5.347719e+06  2.739202e+06   \n",
       "Seltimil Oy                      8470.0  2.289890e+07  1.435918e+07   \n",
       "Storbackas                         20.0  5.546301e+06  2.012182e+06   \n",
       "Teliacommunication Oy            2010.0  2.440128e+07  1.471815e+07   \n",
       "Web1 Oy                           117.0  1.968338e+07  1.253943e+07   \n",
       "\n",
       "                                          min           25%           50%  \\\n",
       "Sponsor                                                                     \n",
       "AinaCom Oy                       8.606605e+05  1.048728e+07  2.198223e+07   \n",
       "Elisa Oyj                        0.000000e+00  1.292389e+07  2.182796e+07   \n",
       "Elmo                             0.000000e+00  6.066395e+06  8.149872e+06   \n",
       "GLH Netsolutions                 2.127348e+06  2.808336e+06  4.892408e+06   \n",
       "JNT                              1.961622e+06  3.473380e+06  5.089995e+06   \n",
       "Kaisanet Oy                      3.599916e+05  4.333419e+06  6.143900e+06   \n",
       "Keski-Suomen Valokuituverkot Oy  2.334478e+06  6.130076e+06  7.034331e+06   \n",
       "Lounea                           5.137499e+05  1.399676e+07  2.137001e+07   \n",
       "MPY Palvelut Oyj                 4.535938e+06  4.535938e+06  4.535938e+06   \n",
       "MPY Telecom Oyj                  2.257961e+06  5.187823e+06  7.940703e+06   \n",
       "Mati forsman                     1.678396e+06  2.672839e+06  5.116245e+06   \n",
       "Napapiirin Kuituverkot Oy        2.730895e+06  4.889771e+06  5.928700e+06   \n",
       "Netplaza Oy                      3.280110e+05  5.468418e+06  6.974242e+06   \n",
       "Omerta.io                        6.888046e+05  3.509311e+06  5.452589e+06   \n",
       "Seltimil Oy                      4.130149e+05  1.231864e+07  2.017280e+07   \n",
       "Storbackas                       2.341351e+06  4.241255e+06  5.931020e+06   \n",
       "Teliacommunication Oy            8.867913e+05  1.300144e+07  2.085260e+07   \n",
       "Web1 Oy                          1.250210e+06  1.020485e+07  1.704151e+07   \n",
       "\n",
       "                                          75%           max  \n",
       "Sponsor                                                      \n",
       "AinaCom Oy                       3.508189e+07  8.202903e+07  \n",
       "Elisa Oyj                        3.571418e+07  8.567023e+07  \n",
       "Elmo                             8.393883e+06  8.941878e+06  \n",
       "GLH Netsolutions                 7.450291e+06  9.552714e+06  \n",
       "JNT                              6.554562e+06  1.300426e+07  \n",
       "Kaisanet Oy                      7.761231e+06  1.236567e+07  \n",
       "Keski-Suomen Valokuituverkot Oy  8.255044e+06  9.991114e+06  \n",
       "Lounea                           3.289949e+07  7.634717e+07  \n",
       "MPY Palvelut Oyj                 4.535938e+06  4.535938e+06  \n",
       "MPY Telecom Oyj                  8.732560e+06  1.157058e+07  \n",
       "Mati forsman                     6.684336e+06  8.122902e+06  \n",
       "Napapiirin Kuituverkot Oy        7.211701e+06  1.190160e+07  \n",
       "Netplaza Oy                      8.629241e+06  1.554283e+07  \n",
       "Omerta.io                        7.481748e+06  1.030341e+07  \n",
       "Seltimil Oy                      3.110105e+07  8.697986e+07  \n",
       "Storbackas                       6.699803e+06  1.031573e+07  \n",
       "Teliacommunication Oy            3.412191e+07  7.781335e+07  \n",
       "Web1 Oy                          2.583036e+07  5.594366e+07  "
      ]
     },
     "execution_count": 81,
     "metadata": {},
     "output_type": "execute_result"
    }
   ],
   "source": [
    "df_down_by_sponsor.describe()"
   ]
  },
  {
   "cell_type": "code",
   "execution_count": 82,
   "metadata": {},
   "outputs": [
    {
     "data": {
      "image/png": "[encoded data removed]",
      "text/plain": [
       "<Figure size 1152x360 with 1 Axes>"
      ]
     },
     "metadata": {
      "needs_background": "light"
     },
     "output_type": "display_data"
    }
   ],
   "source": [
    "# Histogrammia alas Sponsoreittain (HUOM! Jos Sponsoreittein määrä muuttuu, tämä ei toimi!)\n",
    "\n",
    "sponsor = ('AinaCom Oy', 'Elisa Oyj', 'Elmo', 'GLH Netsolutions', 'JNT', 'Kaisanet Oy', 'Keski-Suomen Valokuituverkot Oy', \n",
    "           'Lounea', 'MPY Palvelut Oyj', 'MPY Telecom Oyj', 'Mati forsman', 'Napapiirin Kuituverkot Oy', 'Netplaza Oy', \n",
    "           'Omerta.io', 'Seltimil Oy', 'Storbackas', 'Teliacommunication Oy', 'Web1 Oy') \n",
    "\n",
    "plt.bar(np.arange(len(sponsor)), df.groupby('Sponsor')['Download'].mean(), align='center', alpha=0.5)\n",
    "plt.xticks(np.arange(len(sponsor)), sponsor, rotation=90)\n",
    "\n",
    "plt.xlabel('Sponsori')\n",
    "plt.ylabel('Download')\n",
    "plt.title('Download-keskiarvo Sponsoreittain')\n",
    "plt.show()"
   ]
  },
  {
   "cell_type": "code",
   "execution_count": null,
   "metadata": {},
   "outputs": [],
   "source": []
  }
 ],
 "metadata": {
  "kernelspec": {
   "display_name": "Python 3",
   "language": "python",
   "name": "python3"
  },
  "language_info": {
   "codemirror_mode": {
    "name": "ipython",
    "version": 3
   },
   "file_extension": ".py",
   "mimetype": "text/x-python",
   "name": "python",
   "nbconvert_exporter": "python",
   "pygments_lexer": "ipython3",
   "version": "3.7.4"
  }
 },
 "nbformat": 4,
 "nbformat_minor": 4
}
